{
 "cells": [
  {
   "cell_type": "code",
   "execution_count": 1,
   "id": "d2d09d45",
   "metadata": {},
   "outputs": [],
   "source": [
    "#Load Libraries"
   ]
  },
  {
   "cell_type": "code",
   "execution_count": 2,
   "id": "5354ce4f",
   "metadata": {},
   "outputs": [
    {
     "name": "stdout",
     "output_type": "stream",
     "text": [
      "Requirement already satisfied: pandas in d:\\anaconda3\\lib\\site-packages (1.4.4)\n",
      "Requirement already satisfied: pytz>=2020.1 in d:\\anaconda3\\lib\\site-packages (from pandas) (2022.1)\n",
      "Requirement already satisfied: python-dateutil>=2.8.1 in d:\\anaconda3\\lib\\site-packages (from pandas) (2.8.2)\n",
      "Requirement already satisfied: numpy>=1.18.5 in d:\\anaconda3\\lib\\site-packages (from pandas) (1.21.5)\n",
      "Requirement already satisfied: six>=1.5 in d:\\anaconda3\\lib\\site-packages (from python-dateutil>=2.8.1->pandas) (1.16.0)\n",
      "Note: you may need to restart the kernel to use updated packages.\n"
     ]
    }
   ],
   "source": [
    "pip install pandas"
   ]
  },
  {
   "cell_type": "code",
   "execution_count": 3,
   "id": "0decfcc2",
   "metadata": {},
   "outputs": [
    {
     "name": "stdout",
     "output_type": "stream",
     "text": [
      "Retrieving notices: ...working... done\n",
      "Note: you may need to restart the kernel to use updated packages.\n",
      "\n",
      "Collecting package metadata (current_repodata.json): ...working... done\n",
      "Solving environment: ...working... done\n",
      "\n",
      "# All requested packages already installed.\n",
      "\n"
     ]
    }
   ],
   "source": [
    "conda install pandas"
   ]
  },
  {
   "cell_type": "code",
   "execution_count": 4,
   "id": "f7a57169",
   "metadata": {},
   "outputs": [],
   "source": [
    "import pandas as pd"
   ]
  },
  {
   "cell_type": "code",
   "execution_count": 5,
   "id": "79f3602b",
   "metadata": {},
   "outputs": [
    {
     "name": "stdout",
     "output_type": "stream",
     "text": [
      "Collecting package metadata (current_repodata.json): ...working... done\n",
      "Solving environment: ...working... done\n",
      "\n",
      "# All requested packages already installed.\n",
      "\n",
      "\n",
      "Note: you may need to restart the kernel to use updated packages.\n"
     ]
    }
   ],
   "source": [
    "conda install matplotlib"
   ]
  },
  {
   "cell_type": "code",
   "execution_count": 6,
   "id": "57ceed0b",
   "metadata": {},
   "outputs": [],
   "source": [
    "import matplotlib.pyplot as plt"
   ]
  },
  {
   "cell_type": "code",
   "execution_count": 7,
   "id": "702acc26",
   "metadata": {},
   "outputs": [],
   "source": [
    "#Import Data"
   ]
  },
  {
   "cell_type": "code",
   "execution_count": 8,
   "id": "ce817d1c",
   "metadata": {},
   "outputs": [],
   "source": [
    "Cars_Data=pd.read_csv('C:\\\\Users\\\\Andrew\\\\Anaconda3\\\\WD\\\\Cars.csv')"
   ]
  },
  {
   "cell_type": "code",
   "execution_count": 9,
   "id": "936b6f50",
   "metadata": {},
   "outputs": [
    {
     "data": {
      "text/html": [
       "<div>\n",
       "<style scoped>\n",
       "    .dataframe tbody tr th:only-of-type {\n",
       "        vertical-align: middle;\n",
       "    }\n",
       "\n",
       "    .dataframe tbody tr th {\n",
       "        vertical-align: top;\n",
       "    }\n",
       "\n",
       "    .dataframe thead th {\n",
       "        text-align: right;\n",
       "    }\n",
       "</style>\n",
       "<table border=\"1\" class=\"dataframe\">\n",
       "  <thead>\n",
       "    <tr style=\"text-align: right;\">\n",
       "      <th></th>\n",
       "      <th>name</th>\n",
       "      <th>sports_car</th>\n",
       "      <th>suv</th>\n",
       "      <th>wagon</th>\n",
       "      <th>minivan</th>\n",
       "      <th>pickup</th>\n",
       "      <th>all_wheel</th>\n",
       "      <th>rear_wheel</th>\n",
       "      <th>msrp</th>\n",
       "      <th>dealer_cost</th>\n",
       "      <th>eng_size</th>\n",
       "      <th>ncyl</th>\n",
       "      <th>horsepwr</th>\n",
       "      <th>city_mpg</th>\n",
       "      <th>hwy_mpg</th>\n",
       "      <th>weight</th>\n",
       "      <th>wheel_base</th>\n",
       "      <th>length</th>\n",
       "      <th>width</th>\n",
       "    </tr>\n",
       "  </thead>\n",
       "  <tbody>\n",
       "    <tr>\n",
       "      <th>0</th>\n",
       "      <td>Chevrolet Aveo 4dr</td>\n",
       "      <td>False</td>\n",
       "      <td>False</td>\n",
       "      <td>False</td>\n",
       "      <td>False</td>\n",
       "      <td>False</td>\n",
       "      <td>False</td>\n",
       "      <td>False</td>\n",
       "      <td>11690</td>\n",
       "      <td>10965</td>\n",
       "      <td>1.6</td>\n",
       "      <td>4</td>\n",
       "      <td>103</td>\n",
       "      <td>28.0</td>\n",
       "      <td>34.0</td>\n",
       "      <td>2370.0</td>\n",
       "      <td>98.0</td>\n",
       "      <td>167.0</td>\n",
       "      <td>66.0</td>\n",
       "    </tr>\n",
       "    <tr>\n",
       "      <th>1</th>\n",
       "      <td>Chevrolet Aveo LS 4dr hatch</td>\n",
       "      <td>False</td>\n",
       "      <td>False</td>\n",
       "      <td>False</td>\n",
       "      <td>False</td>\n",
       "      <td>False</td>\n",
       "      <td>False</td>\n",
       "      <td>False</td>\n",
       "      <td>12585</td>\n",
       "      <td>11802</td>\n",
       "      <td>1.6</td>\n",
       "      <td>4</td>\n",
       "      <td>103</td>\n",
       "      <td>28.0</td>\n",
       "      <td>34.0</td>\n",
       "      <td>2348.0</td>\n",
       "      <td>98.0</td>\n",
       "      <td>153.0</td>\n",
       "      <td>66.0</td>\n",
       "    </tr>\n",
       "    <tr>\n",
       "      <th>2</th>\n",
       "      <td>Chevrolet Cavalier 2dr</td>\n",
       "      <td>False</td>\n",
       "      <td>False</td>\n",
       "      <td>False</td>\n",
       "      <td>False</td>\n",
       "      <td>False</td>\n",
       "      <td>False</td>\n",
       "      <td>False</td>\n",
       "      <td>14610</td>\n",
       "      <td>13697</td>\n",
       "      <td>2.2</td>\n",
       "      <td>4</td>\n",
       "      <td>140</td>\n",
       "      <td>26.0</td>\n",
       "      <td>37.0</td>\n",
       "      <td>2617.0</td>\n",
       "      <td>104.0</td>\n",
       "      <td>183.0</td>\n",
       "      <td>69.0</td>\n",
       "    </tr>\n",
       "    <tr>\n",
       "      <th>3</th>\n",
       "      <td>Chevrolet Cavalier 4dr</td>\n",
       "      <td>False</td>\n",
       "      <td>False</td>\n",
       "      <td>False</td>\n",
       "      <td>False</td>\n",
       "      <td>False</td>\n",
       "      <td>False</td>\n",
       "      <td>False</td>\n",
       "      <td>14810</td>\n",
       "      <td>13884</td>\n",
       "      <td>2.2</td>\n",
       "      <td>4</td>\n",
       "      <td>140</td>\n",
       "      <td>26.0</td>\n",
       "      <td>37.0</td>\n",
       "      <td>2676.0</td>\n",
       "      <td>104.0</td>\n",
       "      <td>183.0</td>\n",
       "      <td>68.0</td>\n",
       "    </tr>\n",
       "    <tr>\n",
       "      <th>4</th>\n",
       "      <td>Chevrolet Cavalier LS 2dr</td>\n",
       "      <td>False</td>\n",
       "      <td>False</td>\n",
       "      <td>False</td>\n",
       "      <td>False</td>\n",
       "      <td>False</td>\n",
       "      <td>False</td>\n",
       "      <td>False</td>\n",
       "      <td>16385</td>\n",
       "      <td>15357</td>\n",
       "      <td>2.2</td>\n",
       "      <td>4</td>\n",
       "      <td>140</td>\n",
       "      <td>26.0</td>\n",
       "      <td>37.0</td>\n",
       "      <td>2617.0</td>\n",
       "      <td>104.0</td>\n",
       "      <td>183.0</td>\n",
       "      <td>69.0</td>\n",
       "    </tr>\n",
       "  </tbody>\n",
       "</table>\n",
       "</div>"
      ],
      "text/plain": [
       "                          name  sports_car    suv  wagon  minivan  pickup  \\\n",
       "0           Chevrolet Aveo 4dr       False  False  False    False   False   \n",
       "1  Chevrolet Aveo LS 4dr hatch       False  False  False    False   False   \n",
       "2       Chevrolet Cavalier 2dr       False  False  False    False   False   \n",
       "3       Chevrolet Cavalier 4dr       False  False  False    False   False   \n",
       "4    Chevrolet Cavalier LS 2dr       False  False  False    False   False   \n",
       "\n",
       "   all_wheel  rear_wheel   msrp  dealer_cost  eng_size  ncyl  horsepwr  \\\n",
       "0      False       False  11690        10965       1.6     4       103   \n",
       "1      False       False  12585        11802       1.6     4       103   \n",
       "2      False       False  14610        13697       2.2     4       140   \n",
       "3      False       False  14810        13884       2.2     4       140   \n",
       "4      False       False  16385        15357       2.2     4       140   \n",
       "\n",
       "   city_mpg  hwy_mpg  weight  wheel_base  length  width  \n",
       "0      28.0     34.0  2370.0        98.0   167.0   66.0  \n",
       "1      28.0     34.0  2348.0        98.0   153.0   66.0  \n",
       "2      26.0     37.0  2617.0       104.0   183.0   69.0  \n",
       "3      26.0     37.0  2676.0       104.0   183.0   68.0  \n",
       "4      26.0     37.0  2617.0       104.0   183.0   69.0  "
      ]
     },
     "execution_count": 9,
     "metadata": {},
     "output_type": "execute_result"
    }
   ],
   "source": [
    "Cars_Data.head()"
   ]
  },
  {
   "cell_type": "code",
   "execution_count": 10,
   "id": "2902344b",
   "metadata": {},
   "outputs": [],
   "source": [
    "#Data Exploration"
   ]
  },
  {
   "cell_type": "code",
   "execution_count": 11,
   "id": "b4dc4dc8",
   "metadata": {},
   "outputs": [],
   "source": [
    "###msrp"
   ]
  },
  {
   "cell_type": "code",
   "execution_count": 12,
   "id": "0f974776",
   "metadata": {},
   "outputs": [
    {
     "data": {
      "text/plain": [
       "32774.85514018692"
      ]
     },
     "execution_count": 12,
     "metadata": {},
     "output_type": "execute_result"
    }
   ],
   "source": [
    "Cars_Data['msrp'].mean()"
   ]
  },
  {
   "cell_type": "code",
   "execution_count": 13,
   "id": "0b623682",
   "metadata": {},
   "outputs": [
    {
     "data": {
      "text/plain": [
       "192465"
      ]
     },
     "execution_count": 13,
     "metadata": {},
     "output_type": "execute_result"
    }
   ],
   "source": [
    "Cars_Data['msrp'].max()"
   ]
  },
  {
   "cell_type": "code",
   "execution_count": 14,
   "id": "1ce26f59",
   "metadata": {},
   "outputs": [
    {
     "data": {
      "text/plain": [
       "10280"
      ]
     },
     "execution_count": 14,
     "metadata": {},
     "output_type": "execute_result"
    }
   ],
   "source": [
    "Cars_Data['msrp'].min()"
   ]
  },
  {
   "cell_type": "code",
   "execution_count": 15,
   "id": "10d499b9",
   "metadata": {},
   "outputs": [
    {
     "data": {
      "text/plain": [
       "19431.71667371752"
      ]
     },
     "execution_count": 15,
     "metadata": {},
     "output_type": "execute_result"
    }
   ],
   "source": [
    "Cars_Data['msrp'].std()"
   ]
  },
  {
   "cell_type": "code",
   "execution_count": 16,
   "id": "77ba8a38",
   "metadata": {},
   "outputs": [
    {
     "data": {
      "text/plain": [
       "428"
      ]
     },
     "execution_count": 16,
     "metadata": {},
     "output_type": "execute_result"
    }
   ],
   "source": [
    "Cars_Data['msrp'].count()"
   ]
  },
  {
   "cell_type": "code",
   "execution_count": 17,
   "id": "ef68804c",
   "metadata": {},
   "outputs": [],
   "source": [
    "###msrp by car type"
   ]
  },
  {
   "cell_type": "code",
   "execution_count": 18,
   "id": "9a92d3cc",
   "metadata": {},
   "outputs": [
    {
     "data": {
      "text/plain": [
       "sports_car\n",
       "False    30109.952507\n",
       "True     53387.061224\n",
       "Name: msrp, dtype: float64"
      ]
     },
     "execution_count": 18,
     "metadata": {},
     "output_type": "execute_result"
    }
   ],
   "source": [
    "Cars_Data.groupby('sports_car')['msrp'].mean()"
   ]
  },
  {
   "cell_type": "code",
   "execution_count": 19,
   "id": "3fe9e64c",
   "metadata": {},
   "outputs": [
    {
     "data": {
      "text/plain": [
       "suv\n",
       "False    32446.258152\n",
       "True     34790.250000\n",
       "Name: msrp, dtype: float64"
      ]
     },
     "execution_count": 19,
     "metadata": {},
     "output_type": "execute_result"
    }
   ],
   "source": [
    "Cars_Data.groupby('suv')['msrp'].mean()"
   ]
  },
  {
   "cell_type": "code",
   "execution_count": 20,
   "id": "ded020b9",
   "metadata": {},
   "outputs": [
    {
     "data": {
      "text/plain": [
       "wagon\n",
       "False    33071.412060\n",
       "True     28840.533333\n",
       "Name: msrp, dtype: float64"
      ]
     },
     "execution_count": 20,
     "metadata": {},
     "output_type": "execute_result"
    }
   ],
   "source": [
    "Cars_Data.groupby('wagon')['msrp'].mean()"
   ]
  },
  {
   "cell_type": "code",
   "execution_count": 21,
   "id": "0382c45d",
   "metadata": {},
   "outputs": [
    {
     "data": {
      "text/plain": [
       "minivan\n",
       "False    33018.892157\n",
       "True     27796.500000\n",
       "Name: msrp, dtype: float64"
      ]
     },
     "execution_count": 21,
     "metadata": {},
     "output_type": "execute_result"
    }
   ],
   "source": [
    "Cars_Data.groupby('minivan')['msrp'].mean()"
   ]
  },
  {
   "cell_type": "code",
   "execution_count": 22,
   "id": "ad2edcc9",
   "metadata": {},
   "outputs": [
    {
     "data": {
      "text/plain": [
       "pickup\n",
       "False    33240.210396\n",
       "True     24941.375000\n",
       "Name: msrp, dtype: float64"
      ]
     },
     "execution_count": 22,
     "metadata": {},
     "output_type": "execute_result"
    }
   ],
   "source": [
    "Cars_Data.groupby('pickup')['msrp'].mean()"
   ]
  },
  {
   "cell_type": "code",
   "execution_count": 23,
   "id": "5e1ad552",
   "metadata": {},
   "outputs": [
    {
     "data": {
      "text/plain": [
       "all_wheel\n",
       "False    31759.395833\n",
       "True     36483.489130\n",
       "Name: msrp, dtype: float64"
      ]
     },
     "execution_count": 23,
     "metadata": {},
     "output_type": "execute_result"
    }
   ],
   "source": [
    "Cars_Data.groupby('all_wheel')['msrp'].mean()"
   ]
  },
  {
   "cell_type": "code",
   "execution_count": 24,
   "id": "2bd017de",
   "metadata": {},
   "outputs": [
    {
     "data": {
      "text/plain": [
       "rear_wheel\n",
       "False    28167.732704\n",
       "True     46093.627273\n",
       "Name: msrp, dtype: float64"
      ]
     },
     "execution_count": 24,
     "metadata": {},
     "output_type": "execute_result"
    }
   ],
   "source": [
    "Cars_Data.groupby('rear_wheel')['msrp'].mean()"
   ]
  },
  {
   "cell_type": "code",
   "execution_count": 25,
   "id": "c78108fe",
   "metadata": {},
   "outputs": [],
   "source": [
    "###correlation with msrp"
   ]
  },
  {
   "cell_type": "code",
   "execution_count": 26,
   "id": "2a27eb5f",
   "metadata": {},
   "outputs": [
    {
     "data": {
      "text/plain": [
       "0.9991316206272137"
      ]
     },
     "execution_count": 26,
     "metadata": {},
     "output_type": "execute_result"
    }
   ],
   "source": [
    "Cars_Data['dealer_cost'].corr(Cars_Data['msrp'])"
   ]
  },
  {
   "cell_type": "code",
   "execution_count": 27,
   "id": "fbfe35df",
   "metadata": {},
   "outputs": [
    {
     "data": {
      "text/plain": [
       "0.5717529618466337"
      ]
     },
     "execution_count": 27,
     "metadata": {},
     "output_type": "execute_result"
    }
   ],
   "source": [
    "Cars_Data['eng_size'].corr(Cars_Data['msrp'])"
   ]
  },
  {
   "cell_type": "code",
   "execution_count": 28,
   "id": "004d0523",
   "metadata": {},
   "outputs": [
    {
     "data": {
      "text/plain": [
       "0.62875728749234"
      ]
     },
     "execution_count": 28,
     "metadata": {},
     "output_type": "execute_result"
    }
   ],
   "source": [
    "Cars_Data['ncyl'].corr(Cars_Data['msrp'])"
   ]
  },
  {
   "cell_type": "code",
   "execution_count": 29,
   "id": "a33aeee8",
   "metadata": {},
   "outputs": [
    {
     "data": {
      "text/plain": [
       "0.8269450085627251"
      ]
     },
     "execution_count": 29,
     "metadata": {},
     "output_type": "execute_result"
    }
   ],
   "source": [
    "Cars_Data['horsepwr'].corr(Cars_Data['msrp'])"
   ]
  },
  {
   "cell_type": "code",
   "execution_count": 30,
   "id": "f624f58e",
   "metadata": {},
   "outputs": [
    {
     "data": {
      "text/plain": [
       "-0.46112963133335716"
      ]
     },
     "execution_count": 30,
     "metadata": {},
     "output_type": "execute_result"
    }
   ],
   "source": [
    "Cars_Data['city_mpg'].corr(Cars_Data['msrp'])"
   ]
  },
  {
   "cell_type": "code",
   "execution_count": 31,
   "id": "8034eb73",
   "metadata": {},
   "outputs": [
    {
     "data": {
      "text/plain": [
       "-0.42939568337608813"
      ]
     },
     "execution_count": 31,
     "metadata": {},
     "output_type": "execute_result"
    }
   ],
   "source": [
    "Cars_Data['hwy_mpg'].corr(Cars_Data['msrp'])"
   ]
  },
  {
   "cell_type": "code",
   "execution_count": 32,
   "id": "ca993308",
   "metadata": {},
   "outputs": [
    {
     "data": {
      "text/plain": [
       "0.4493356676870791"
      ]
     },
     "execution_count": 32,
     "metadata": {},
     "output_type": "execute_result"
    }
   ],
   "source": [
    "Cars_Data['weight'].corr(Cars_Data['msrp'])"
   ]
  },
  {
   "cell_type": "code",
   "execution_count": 33,
   "id": "fbb3a8dc",
   "metadata": {},
   "outputs": [],
   "source": [
    "###sport cars correlation"
   ]
  },
  {
   "cell_type": "code",
   "execution_count": 34,
   "id": "60c9bf3a",
   "metadata": {},
   "outputs": [],
   "source": [
    "Sport_Cars_Data=Cars_Data[Cars_Data['sports_car'] == True]"
   ]
  },
  {
   "cell_type": "code",
   "execution_count": 35,
   "id": "fe3ae1fd",
   "metadata": {},
   "outputs": [
    {
     "data": {
      "text/html": [
       "<div>\n",
       "<style scoped>\n",
       "    .dataframe tbody tr th:only-of-type {\n",
       "        vertical-align: middle;\n",
       "    }\n",
       "\n",
       "    .dataframe tbody tr th {\n",
       "        vertical-align: top;\n",
       "    }\n",
       "\n",
       "    .dataframe thead th {\n",
       "        text-align: right;\n",
       "    }\n",
       "</style>\n",
       "<table border=\"1\" class=\"dataframe\">\n",
       "  <thead>\n",
       "    <tr style=\"text-align: right;\">\n",
       "      <th></th>\n",
       "      <th>name</th>\n",
       "      <th>sports_car</th>\n",
       "      <th>suv</th>\n",
       "      <th>wagon</th>\n",
       "      <th>minivan</th>\n",
       "      <th>pickup</th>\n",
       "      <th>all_wheel</th>\n",
       "      <th>rear_wheel</th>\n",
       "      <th>msrp</th>\n",
       "      <th>dealer_cost</th>\n",
       "      <th>eng_size</th>\n",
       "      <th>ncyl</th>\n",
       "      <th>horsepwr</th>\n",
       "      <th>city_mpg</th>\n",
       "      <th>hwy_mpg</th>\n",
       "      <th>weight</th>\n",
       "      <th>wheel_base</th>\n",
       "      <th>length</th>\n",
       "      <th>width</th>\n",
       "    </tr>\n",
       "  </thead>\n",
       "  <tbody>\n",
       "    <tr>\n",
       "      <th>245</th>\n",
       "      <td>Acura NSX coupe 2dr manual S</td>\n",
       "      <td>True</td>\n",
       "      <td>False</td>\n",
       "      <td>False</td>\n",
       "      <td>False</td>\n",
       "      <td>False</td>\n",
       "      <td>False</td>\n",
       "      <td>True</td>\n",
       "      <td>89765</td>\n",
       "      <td>79978</td>\n",
       "      <td>3.2</td>\n",
       "      <td>6</td>\n",
       "      <td>290</td>\n",
       "      <td>17.0</td>\n",
       "      <td>24.0</td>\n",
       "      <td>3153.0</td>\n",
       "      <td>100.0</td>\n",
       "      <td>174.0</td>\n",
       "      <td>71.0</td>\n",
       "    </tr>\n",
       "    <tr>\n",
       "      <th>246</th>\n",
       "      <td>Audi RS 6 4dr</td>\n",
       "      <td>True</td>\n",
       "      <td>False</td>\n",
       "      <td>False</td>\n",
       "      <td>False</td>\n",
       "      <td>False</td>\n",
       "      <td>False</td>\n",
       "      <td>False</td>\n",
       "      <td>84600</td>\n",
       "      <td>76417</td>\n",
       "      <td>4.2</td>\n",
       "      <td>8</td>\n",
       "      <td>450</td>\n",
       "      <td>15.0</td>\n",
       "      <td>22.0</td>\n",
       "      <td>4024.0</td>\n",
       "      <td>109.0</td>\n",
       "      <td>191.0</td>\n",
       "      <td>78.0</td>\n",
       "    </tr>\n",
       "    <tr>\n",
       "      <th>247</th>\n",
       "      <td>Audi TT 1.8 convertible 2dr (coupe)</td>\n",
       "      <td>True</td>\n",
       "      <td>False</td>\n",
       "      <td>False</td>\n",
       "      <td>False</td>\n",
       "      <td>False</td>\n",
       "      <td>False</td>\n",
       "      <td>False</td>\n",
       "      <td>35940</td>\n",
       "      <td>32512</td>\n",
       "      <td>1.8</td>\n",
       "      <td>4</td>\n",
       "      <td>180</td>\n",
       "      <td>20.0</td>\n",
       "      <td>28.0</td>\n",
       "      <td>3131.0</td>\n",
       "      <td>95.0</td>\n",
       "      <td>159.0</td>\n",
       "      <td>73.0</td>\n",
       "    </tr>\n",
       "    <tr>\n",
       "      <th>248</th>\n",
       "      <td>Audi TT 1.8 Quattro 2dr (convertible)</td>\n",
       "      <td>True</td>\n",
       "      <td>False</td>\n",
       "      <td>False</td>\n",
       "      <td>False</td>\n",
       "      <td>False</td>\n",
       "      <td>True</td>\n",
       "      <td>False</td>\n",
       "      <td>37390</td>\n",
       "      <td>33891</td>\n",
       "      <td>1.8</td>\n",
       "      <td>4</td>\n",
       "      <td>225</td>\n",
       "      <td>20.0</td>\n",
       "      <td>28.0</td>\n",
       "      <td>2921.0</td>\n",
       "      <td>96.0</td>\n",
       "      <td>159.0</td>\n",
       "      <td>73.0</td>\n",
       "    </tr>\n",
       "    <tr>\n",
       "      <th>249</th>\n",
       "      <td>Audi TT 3.2 coupe 2dr (convertible)</td>\n",
       "      <td>True</td>\n",
       "      <td>False</td>\n",
       "      <td>False</td>\n",
       "      <td>False</td>\n",
       "      <td>False</td>\n",
       "      <td>True</td>\n",
       "      <td>False</td>\n",
       "      <td>40590</td>\n",
       "      <td>36739</td>\n",
       "      <td>3.2</td>\n",
       "      <td>6</td>\n",
       "      <td>250</td>\n",
       "      <td>21.0</td>\n",
       "      <td>29.0</td>\n",
       "      <td>3351.0</td>\n",
       "      <td>96.0</td>\n",
       "      <td>159.0</td>\n",
       "      <td>73.0</td>\n",
       "    </tr>\n",
       "  </tbody>\n",
       "</table>\n",
       "</div>"
      ],
      "text/plain": [
       "                                      name  sports_car    suv  wagon  minivan  \\\n",
       "245           Acura NSX coupe 2dr manual S        True  False  False    False   \n",
       "246                          Audi RS 6 4dr        True  False  False    False   \n",
       "247    Audi TT 1.8 convertible 2dr (coupe)        True  False  False    False   \n",
       "248  Audi TT 1.8 Quattro 2dr (convertible)        True  False  False    False   \n",
       "249    Audi TT 3.2 coupe 2dr (convertible)        True  False  False    False   \n",
       "\n",
       "     pickup  all_wheel  rear_wheel   msrp  dealer_cost  eng_size  ncyl  \\\n",
       "245   False      False        True  89765        79978       3.2     6   \n",
       "246   False      False       False  84600        76417       4.2     8   \n",
       "247   False      False       False  35940        32512       1.8     4   \n",
       "248   False       True       False  37390        33891       1.8     4   \n",
       "249   False       True       False  40590        36739       3.2     6   \n",
       "\n",
       "     horsepwr  city_mpg  hwy_mpg  weight  wheel_base  length  width  \n",
       "245       290      17.0     24.0  3153.0       100.0   174.0   71.0  \n",
       "246       450      15.0     22.0  4024.0       109.0   191.0   78.0  \n",
       "247       180      20.0     28.0  3131.0        95.0   159.0   73.0  \n",
       "248       225      20.0     28.0  2921.0        96.0   159.0   73.0  \n",
       "249       250      21.0     29.0  3351.0        96.0   159.0   73.0  "
      ]
     },
     "execution_count": 35,
     "metadata": {},
     "output_type": "execute_result"
    }
   ],
   "source": [
    "Sport_Cars_Data.head()"
   ]
  },
  {
   "cell_type": "code",
   "execution_count": 36,
   "id": "d66ee9fe",
   "metadata": {},
   "outputs": [
    {
     "data": {
      "text/plain": [
       "-0.5900002460591512"
      ]
     },
     "execution_count": 36,
     "metadata": {},
     "output_type": "execute_result"
    }
   ],
   "source": [
    "Sport_Cars_Data['hwy_mpg'].corr(Sport_Cars_Data['msrp'])"
   ]
  },
  {
   "cell_type": "code",
   "execution_count": 37,
   "id": "4fd47a77",
   "metadata": {},
   "outputs": [
    {
     "data": {
      "text/plain": [
       "-0.6308136860812209"
      ]
     },
     "execution_count": 37,
     "metadata": {},
     "output_type": "execute_result"
    }
   ],
   "source": [
    "Sport_Cars_Data['city_mpg'].corr(Sport_Cars_Data['msrp'])"
   ]
  },
  {
   "cell_type": "code",
   "execution_count": 38,
   "id": "0ba6f408",
   "metadata": {},
   "outputs": [],
   "source": [
    "###non-sport cars correlation"
   ]
  },
  {
   "cell_type": "code",
   "execution_count": 39,
   "id": "74ce3903",
   "metadata": {},
   "outputs": [],
   "source": [
    "NotSport_Cars_Data=Cars_Data[Cars_Data['sports_car'] == False]"
   ]
  },
  {
   "cell_type": "code",
   "execution_count": 40,
   "id": "91971697",
   "metadata": {},
   "outputs": [
    {
     "data": {
      "text/html": [
       "<div>\n",
       "<style scoped>\n",
       "    .dataframe tbody tr th:only-of-type {\n",
       "        vertical-align: middle;\n",
       "    }\n",
       "\n",
       "    .dataframe tbody tr th {\n",
       "        vertical-align: top;\n",
       "    }\n",
       "\n",
       "    .dataframe thead th {\n",
       "        text-align: right;\n",
       "    }\n",
       "</style>\n",
       "<table border=\"1\" class=\"dataframe\">\n",
       "  <thead>\n",
       "    <tr style=\"text-align: right;\">\n",
       "      <th></th>\n",
       "      <th>name</th>\n",
       "      <th>sports_car</th>\n",
       "      <th>suv</th>\n",
       "      <th>wagon</th>\n",
       "      <th>minivan</th>\n",
       "      <th>pickup</th>\n",
       "      <th>all_wheel</th>\n",
       "      <th>rear_wheel</th>\n",
       "      <th>msrp</th>\n",
       "      <th>dealer_cost</th>\n",
       "      <th>eng_size</th>\n",
       "      <th>ncyl</th>\n",
       "      <th>horsepwr</th>\n",
       "      <th>city_mpg</th>\n",
       "      <th>hwy_mpg</th>\n",
       "      <th>weight</th>\n",
       "      <th>wheel_base</th>\n",
       "      <th>length</th>\n",
       "      <th>width</th>\n",
       "    </tr>\n",
       "  </thead>\n",
       "  <tbody>\n",
       "    <tr>\n",
       "      <th>0</th>\n",
       "      <td>Chevrolet Aveo 4dr</td>\n",
       "      <td>False</td>\n",
       "      <td>False</td>\n",
       "      <td>False</td>\n",
       "      <td>False</td>\n",
       "      <td>False</td>\n",
       "      <td>False</td>\n",
       "      <td>False</td>\n",
       "      <td>11690</td>\n",
       "      <td>10965</td>\n",
       "      <td>1.6</td>\n",
       "      <td>4</td>\n",
       "      <td>103</td>\n",
       "      <td>28.0</td>\n",
       "      <td>34.0</td>\n",
       "      <td>2370.0</td>\n",
       "      <td>98.0</td>\n",
       "      <td>167.0</td>\n",
       "      <td>66.0</td>\n",
       "    </tr>\n",
       "    <tr>\n",
       "      <th>1</th>\n",
       "      <td>Chevrolet Aveo LS 4dr hatch</td>\n",
       "      <td>False</td>\n",
       "      <td>False</td>\n",
       "      <td>False</td>\n",
       "      <td>False</td>\n",
       "      <td>False</td>\n",
       "      <td>False</td>\n",
       "      <td>False</td>\n",
       "      <td>12585</td>\n",
       "      <td>11802</td>\n",
       "      <td>1.6</td>\n",
       "      <td>4</td>\n",
       "      <td>103</td>\n",
       "      <td>28.0</td>\n",
       "      <td>34.0</td>\n",
       "      <td>2348.0</td>\n",
       "      <td>98.0</td>\n",
       "      <td>153.0</td>\n",
       "      <td>66.0</td>\n",
       "    </tr>\n",
       "    <tr>\n",
       "      <th>2</th>\n",
       "      <td>Chevrolet Cavalier 2dr</td>\n",
       "      <td>False</td>\n",
       "      <td>False</td>\n",
       "      <td>False</td>\n",
       "      <td>False</td>\n",
       "      <td>False</td>\n",
       "      <td>False</td>\n",
       "      <td>False</td>\n",
       "      <td>14610</td>\n",
       "      <td>13697</td>\n",
       "      <td>2.2</td>\n",
       "      <td>4</td>\n",
       "      <td>140</td>\n",
       "      <td>26.0</td>\n",
       "      <td>37.0</td>\n",
       "      <td>2617.0</td>\n",
       "      <td>104.0</td>\n",
       "      <td>183.0</td>\n",
       "      <td>69.0</td>\n",
       "    </tr>\n",
       "    <tr>\n",
       "      <th>3</th>\n",
       "      <td>Chevrolet Cavalier 4dr</td>\n",
       "      <td>False</td>\n",
       "      <td>False</td>\n",
       "      <td>False</td>\n",
       "      <td>False</td>\n",
       "      <td>False</td>\n",
       "      <td>False</td>\n",
       "      <td>False</td>\n",
       "      <td>14810</td>\n",
       "      <td>13884</td>\n",
       "      <td>2.2</td>\n",
       "      <td>4</td>\n",
       "      <td>140</td>\n",
       "      <td>26.0</td>\n",
       "      <td>37.0</td>\n",
       "      <td>2676.0</td>\n",
       "      <td>104.0</td>\n",
       "      <td>183.0</td>\n",
       "      <td>68.0</td>\n",
       "    </tr>\n",
       "    <tr>\n",
       "      <th>4</th>\n",
       "      <td>Chevrolet Cavalier LS 2dr</td>\n",
       "      <td>False</td>\n",
       "      <td>False</td>\n",
       "      <td>False</td>\n",
       "      <td>False</td>\n",
       "      <td>False</td>\n",
       "      <td>False</td>\n",
       "      <td>False</td>\n",
       "      <td>16385</td>\n",
       "      <td>15357</td>\n",
       "      <td>2.2</td>\n",
       "      <td>4</td>\n",
       "      <td>140</td>\n",
       "      <td>26.0</td>\n",
       "      <td>37.0</td>\n",
       "      <td>2617.0</td>\n",
       "      <td>104.0</td>\n",
       "      <td>183.0</td>\n",
       "      <td>69.0</td>\n",
       "    </tr>\n",
       "  </tbody>\n",
       "</table>\n",
       "</div>"
      ],
      "text/plain": [
       "                          name  sports_car    suv  wagon  minivan  pickup  \\\n",
       "0           Chevrolet Aveo 4dr       False  False  False    False   False   \n",
       "1  Chevrolet Aveo LS 4dr hatch       False  False  False    False   False   \n",
       "2       Chevrolet Cavalier 2dr       False  False  False    False   False   \n",
       "3       Chevrolet Cavalier 4dr       False  False  False    False   False   \n",
       "4    Chevrolet Cavalier LS 2dr       False  False  False    False   False   \n",
       "\n",
       "   all_wheel  rear_wheel   msrp  dealer_cost  eng_size  ncyl  horsepwr  \\\n",
       "0      False       False  11690        10965       1.6     4       103   \n",
       "1      False       False  12585        11802       1.6     4       103   \n",
       "2      False       False  14610        13697       2.2     4       140   \n",
       "3      False       False  14810        13884       2.2     4       140   \n",
       "4      False       False  16385        15357       2.2     4       140   \n",
       "\n",
       "   city_mpg  hwy_mpg  weight  wheel_base  length  width  \n",
       "0      28.0     34.0  2370.0        98.0   167.0   66.0  \n",
       "1      28.0     34.0  2348.0        98.0   153.0   66.0  \n",
       "2      26.0     37.0  2617.0       104.0   183.0   69.0  \n",
       "3      26.0     37.0  2676.0       104.0   183.0   68.0  \n",
       "4      26.0     37.0  2617.0       104.0   183.0   69.0  "
      ]
     },
     "execution_count": 40,
     "metadata": {},
     "output_type": "execute_result"
    }
   ],
   "source": [
    "NotSport_Cars_Data.head()"
   ]
  },
  {
   "cell_type": "code",
   "execution_count": 41,
   "id": "ac0246e8",
   "metadata": {},
   "outputs": [
    {
     "data": {
      "text/plain": [
       "-0.49257087155792"
      ]
     },
     "execution_count": 41,
     "metadata": {},
     "output_type": "execute_result"
    }
   ],
   "source": [
    "NotSport_Cars_Data['hwy_mpg'].corr(NotSport_Cars_Data['msrp'])"
   ]
  },
  {
   "cell_type": "code",
   "execution_count": 42,
   "id": "2b5a5680",
   "metadata": {},
   "outputs": [
    {
     "data": {
      "text/plain": [
       "-0.5174295818936742"
      ]
     },
     "execution_count": 42,
     "metadata": {},
     "output_type": "execute_result"
    }
   ],
   "source": [
    "NotSport_Cars_Data['city_mpg'].corr(NotSport_Cars_Data['msrp'])"
   ]
  },
  {
   "cell_type": "code",
   "execution_count": 43,
   "id": "a8873275",
   "metadata": {},
   "outputs": [],
   "source": [
    "###Looks like there is stronger negative correlation for sport cars' msrp and hwy_mpg/city_mpgp versus non-sport cars"
   ]
  },
  {
   "cell_type": "code",
   "execution_count": 44,
   "id": "deeba49f",
   "metadata": {},
   "outputs": [
    {
     "data": {
      "text/plain": [
       "0.15035398259821192"
      ]
     },
     "execution_count": 44,
     "metadata": {},
     "output_type": "execute_result"
    }
   ],
   "source": [
    "Cars_Data['wheel_base'].corr(Cars_Data['msrp'])"
   ]
  },
  {
   "cell_type": "code",
   "execution_count": 45,
   "id": "b734d239",
   "metadata": {},
   "outputs": [
    {
     "data": {
      "text/plain": [
       "0.214888960437098"
      ]
     },
     "execution_count": 45,
     "metadata": {},
     "output_type": "execute_result"
    }
   ],
   "source": [
    "Cars_Data['length'].corr(Cars_Data['msrp'])"
   ]
  },
  {
   "cell_type": "code",
   "execution_count": 46,
   "id": "5d7bc1ba",
   "metadata": {},
   "outputs": [
    {
     "data": {
      "text/plain": [
       "0.3281128904585705"
      ]
     },
     "execution_count": 46,
     "metadata": {},
     "output_type": "execute_result"
    }
   ],
   "source": [
    "Cars_Data['width'].corr(Cars_Data['msrp'])"
   ]
  },
  {
   "cell_type": "code",
   "execution_count": 47,
   "id": "cefd895a",
   "metadata": {},
   "outputs": [],
   "source": [
    "###histogram by variable"
   ]
  },
  {
   "cell_type": "code",
   "execution_count": 48,
   "id": "ebaacdcf",
   "metadata": {},
   "outputs": [
    {
     "data": {
      "text/plain": [
       "<AxesSubplot:title={'center':'MSRP'}, xlabel='Dollars', ylabel='Frequency'>"
      ]
     },
     "execution_count": 48,
     "metadata": {},
     "output_type": "execute_result"
    },
    {
     "data": {
      "image/png": "[encoded data removed]",
      "text/plain": [
       "<Figure size 640x480 with 1 Axes>"
      ]
     },
     "metadata": {},
     "output_type": "display_data"
    }
   ],
   "source": [
    "plt.title('MSRP')\n",
    "plt.xlabel('Dollars')\n",
    "plt.ylabel('Frequency')\n",
    "plt.grid(axis='y', alpha=0.75)\n",
    "Cars_Data['msrp'].plot.hist(grid=True, bins=40, rwidth=0.9, color='#607c8e')"
   ]
  },
  {
   "cell_type": "code",
   "execution_count": 49,
   "id": "1ed6d343",
   "metadata": {},
   "outputs": [
    {
     "data": {
      "text/plain": [
       "<AxesSubplot:title={'center':'Dealer Cost'}, xlabel='Dollars', ylabel='Frequency'>"
      ]
     },
     "execution_count": 49,
     "metadata": {},
     "output_type": "execute_result"
    },
    {
     "data": {
      "image/png": "[encoded data removed]",
      "text/plain": [
       "<Figure size 640x480 with 1 Axes>"
      ]
     },
     "metadata": {},
     "output_type": "display_data"
    }
   ],
   "source": [
    "plt.title('Dealer Cost')\n",
    "plt.xlabel('Dollars')\n",
    "plt.ylabel('Frequency')\n",
    "plt.grid(axis='y', alpha=0.75)\n",
    "Cars_Data['dealer_cost'].plot.hist(grid=True, bins=40, rwidth=0.9, color='#607c8e')"
   ]
  },
  {
   "cell_type": "code",
   "execution_count": 50,
   "id": "c0f67d0d",
   "metadata": {},
   "outputs": [
    {
     "data": {
      "text/plain": [
       "<AxesSubplot:title={'center':'Engine Size'}, xlabel='Liters', ylabel='Frequency'>"
      ]
     },
     "execution_count": 50,
     "metadata": {},
     "output_type": "execute_result"
    },
    {
     "data": {
      "image/png": "[encoded data removed]",
      "text/plain": [
       "<Figure size 640x480 with 1 Axes>"
      ]
     },
     "metadata": {},
     "output_type": "display_data"
    }
   ],
   "source": [
    "plt.title('Engine Size')\n",
    "plt.xlabel('Liters')\n",
    "plt.ylabel('Frequency')\n",
    "plt.grid(axis='y', alpha=0.75)\n",
    "Cars_Data['eng_size'].plot.hist(grid=True, bins=40, rwidth=0.9, color='#607c8e')"
   ]
  },
  {
   "cell_type": "code",
   "execution_count": 57,
   "id": "faae752e",
   "metadata": {},
   "outputs": [],
   "source": [
    "un_cylinders=[Cars_Data['ncyl'].unique()]"
   ]
  },
  {
   "cell_type": "code",
   "execution_count": 62,
   "id": "7b8799e4",
   "metadata": {},
   "outputs": [
    {
     "data": {
      "text/plain": [
       "[array([ 4,  6,  3,  8,  5, 12, 10, -1], dtype=int64)]"
      ]
     },
     "execution_count": 62,
     "metadata": {},
     "output_type": "execute_result"
    }
   ],
   "source": [
    "un_cylinders"
   ]
  }
 ],
 "metadata": {
  "kernelspec": {
   "display_name": "Python 3 (ipykernel)",
   "language": "python",
   "name": "python3"
  },
  "language_info": {
   "codemirror_mode": {
    "name": "ipython",
    "version": 3
   },
   "file_extension": ".py",
   "mimetype": "text/x-python",
   "name": "python",
   "nbconvert_exporter": "python",
   "pygments_lexer": "ipython3",
   "version": "3.9.13"
  }
 },
 "nbformat": 4,
 "nbformat_minor": 5
}
