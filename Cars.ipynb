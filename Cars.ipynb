{
 "cells": [
  {
   "cell_type": "code",
   "execution_count": null,
   "id": "8d4830e5",
   "metadata": {},
   "outputs": [],
   "source": [
    "#install packages"
   ]
  },
  {
   "cell_type": "code",
   "execution_count": null,
   "id": "bc9b409b",
   "metadata": {},
   "outputs": [],
   "source": [
    "pip install numpy"
   ]
  },
  {
   "cell_type": "code",
   "execution_count": 1,
   "id": "a98fcff3",
   "metadata": {},
   "outputs": [
    {
     "name": "stdout",
     "output_type": "stream",
     "text": [
      "Defaulting to user installation because normal site-packages is not writeableNote: you may need to restart the kernel to use updated packages.\n",
      "\n",
      "Requirement already satisfied: pandas in c:\\programdata\\anaconda3\\lib\\site-packages (1.5.3)\n",
      "Requirement already satisfied: numpy>=1.21.0 in c:\\programdata\\anaconda3\\lib\\site-packages (from pandas) (1.23.5)\n",
      "Requirement already satisfied: pytz>=2020.1 in c:\\programdata\\anaconda3\\lib\\site-packages (from pandas) (2022.7)\n",
      "Requirement already satisfied: python-dateutil>=2.8.1 in c:\\programdata\\anaconda3\\lib\\site-packages (from pandas) (2.8.2)\n",
      "Requirement already satisfied: six>=1.5 in c:\\programdata\\anaconda3\\lib\\site-packages (from python-dateutil>=2.8.1->pandas) (1.16.0)\n"
     ]
    }
   ],
   "source": [
    "pip install pandas"
   ]
  },
  {
   "cell_type": "code",
   "execution_count": 3,
   "id": "08adc780",
   "metadata": {},
   "outputs": [
    {
     "name": "stdout",
     "output_type": "stream",
     "text": [
      "Collecting package metadata (current_repodata.json): ...working... done\n",
      "Note: you may need to restart the kernel to use updated packages.\n",
      "\n",
      "Solving environment: ...working... done\n",
      "\n",
      "## Package Plan ##\n",
      "\n",
      "  environment location: C:\\ProgramData\\anaconda3\n",
      "\n",
      "  added / updated specs:\n",
      "    - matplotlib\n",
      "\n",
      "\n",
      "The following packages will be UPDATED:\n",
      "\n",
      "  certifi                          2023.5.7-py310haa95532_0 --> 2023.7.22-py310haa95532_0 \n",
      "\n",
      "\n",
      "\n",
      "Downloading and Extracting Packages\n",
      "\n",
      "\n",
      "Preparing transaction: ...working... done\n",
      "Verifying transaction: ...working... failed\n"
     ]
    },
    {
     "name": "stderr",
     "output_type": "stream",
     "text": [
      "\n",
      "\n",
      "==> WARNING: A newer version of conda exists. <==\n",
      "  current version: 23.3.1\n",
      "  latest version: 23.7.0\n",
      "\n",
      "Please update conda by running\n",
      "\n",
      "    $ conda update -n base -c defaults conda\n",
      "\n",
      "Or to minimize the number of packages updated during conda update use\n",
      "\n",
      "     conda install conda=23.7.0\n",
      "\n",
      "\n",
      "\n",
      "EnvironmentNotWritableError: The current user does not have write permissions to the target environment.\n",
      "  environment location: C:\\ProgramData\\anaconda3\n",
      "\n",
      "\n"
     ]
    }
   ],
   "source": [
    "pip install matplotlib"
   ]
  },
  {
   "cell_type": "code",
   "execution_count": null,
   "id": "7a87713b",
   "metadata": {},
   "outputs": [],
   "source": [
    "pip install statsmodels"
   ]
  },
  {
   "cell_type": "code",
   "execution_count": null,
   "id": "d338e9bc",
   "metadata": {},
   "outputs": [],
   "source": [
    "pip install patsy"
   ]
  },
  {
   "cell_type": "code",
   "execution_count": null,
   "id": "28c220c4",
   "metadata": {},
   "outputs": [],
   "source": [
    "#Import packages"
   ]
  },
  {
   "cell_type": "code",
   "execution_count": 4,
   "id": "bd90c2a5",
   "metadata": {},
   "outputs": [],
   "source": [
    "import pandas as pd"
   ]
  },
  {
   "cell_type": "code",
   "execution_count": 6,
   "id": "4b72d1bc",
   "metadata": {},
   "outputs": [],
   "source": [
    "import numpy as np"
   ]
  },
  {
   "cell_type": "code",
   "execution_count": 7,
   "id": "fd8168d1",
   "metadata": {},
   "outputs": [],
   "source": [
    "import matplotlib.pyplot as plt"
   ]
  },
  {
   "cell_type": "code",
   "execution_count": 10,
   "id": "bdb7ff1d",
   "metadata": {},
   "outputs": [],
   "source": [
    "from statsmodels.api import OLS"
   ]
  },
  {
   "cell_type": "code",
   "execution_count": 12,
   "id": "deac65d4",
   "metadata": {},
   "outputs": [],
   "source": [
    "import statsmodels.api as sm"
   ]
  },
  {
   "cell_type": "code",
   "execution_count": 14,
   "id": "d6fc6314",
   "metadata": {},
   "outputs": [],
   "source": [
    "import patsy"
   ]
  },
  {
   "cell_type": "code",
   "execution_count": 15,
   "id": "934f41c2",
   "metadata": {},
   "outputs": [],
   "source": [
    "from patsy import dmatrices"
   ]
  },
  {
   "cell_type": "code",
   "execution_count": 16,
   "id": "c73dce85",
   "metadata": {},
   "outputs": [],
   "source": [
    "#Import Data"
   ]
  },
  {
   "cell_type": "code",
   "execution_count": 17,
   "id": "fd40574a",
   "metadata": {},
   "outputs": [],
   "source": [
    "Cars_Data=pd.read_csv('C:\\\\Users\\\\Andrew\\\\Desktop\\\\Job Search\\\\Projects\\\\Cars.csv')"
   ]
  },
  {
   "cell_type": "code",
   "execution_count": 18,
   "id": "a127be04",
   "metadata": {},
   "outputs": [
    {
     "data": {
      "text/html": [
       "<div>\n",
       "<style scoped>\n",
       "    .dataframe tbody tr th:only-of-type {\n",
       "        vertical-align: middle;\n",
       "    }\n",
       "\n",
       "    .dataframe tbody tr th {\n",
       "        vertical-align: top;\n",
       "    }\n",
       "\n",
       "    .dataframe thead th {\n",
       "        text-align: right;\n",
       "    }\n",
       "</style>\n",
       "<table border=\"1\" class=\"dataframe\">\n",
       "  <thead>\n",
       "    <tr style=\"text-align: right;\">\n",
       "      <th></th>\n",
       "      <th>name</th>\n",
       "      <th>sports_car</th>\n",
       "      <th>suv</th>\n",
       "      <th>wagon</th>\n",
       "      <th>minivan</th>\n",
       "      <th>pickup</th>\n",
       "      <th>all_wheel</th>\n",
       "      <th>rear_wheel</th>\n",
       "      <th>msrp</th>\n",
       "      <th>dealer_cost</th>\n",
       "      <th>eng_size</th>\n",
       "      <th>ncyl</th>\n",
       "      <th>horsepwr</th>\n",
       "      <th>city_mpg</th>\n",
       "      <th>hwy_mpg</th>\n",
       "      <th>weight</th>\n",
       "      <th>wheel_base</th>\n",
       "      <th>length</th>\n",
       "      <th>width</th>\n",
       "    </tr>\n",
       "  </thead>\n",
       "  <tbody>\n",
       "    <tr>\n",
       "      <th>0</th>\n",
       "      <td>Chevrolet Aveo 4dr</td>\n",
       "      <td>False</td>\n",
       "      <td>False</td>\n",
       "      <td>False</td>\n",
       "      <td>False</td>\n",
       "      <td>False</td>\n",
       "      <td>False</td>\n",
       "      <td>False</td>\n",
       "      <td>11690</td>\n",
       "      <td>10965</td>\n",
       "      <td>1.6</td>\n",
       "      <td>4</td>\n",
       "      <td>103</td>\n",
       "      <td>28.0</td>\n",
       "      <td>34.0</td>\n",
       "      <td>2370.0</td>\n",
       "      <td>98.0</td>\n",
       "      <td>167.0</td>\n",
       "      <td>66.0</td>\n",
       "    </tr>\n",
       "    <tr>\n",
       "      <th>1</th>\n",
       "      <td>Chevrolet Aveo LS 4dr hatch</td>\n",
       "      <td>False</td>\n",
       "      <td>False</td>\n",
       "      <td>False</td>\n",
       "      <td>False</td>\n",
       "      <td>False</td>\n",
       "      <td>False</td>\n",
       "      <td>False</td>\n",
       "      <td>12585</td>\n",
       "      <td>11802</td>\n",
       "      <td>1.6</td>\n",
       "      <td>4</td>\n",
       "      <td>103</td>\n",
       "      <td>28.0</td>\n",
       "      <td>34.0</td>\n",
       "      <td>2348.0</td>\n",
       "      <td>98.0</td>\n",
       "      <td>153.0</td>\n",
       "      <td>66.0</td>\n",
       "    </tr>\n",
       "    <tr>\n",
       "      <th>2</th>\n",
       "      <td>Chevrolet Cavalier 2dr</td>\n",
       "      <td>False</td>\n",
       "      <td>False</td>\n",
       "      <td>False</td>\n",
       "      <td>False</td>\n",
       "      <td>False</td>\n",
       "      <td>False</td>\n",
       "      <td>False</td>\n",
       "      <td>14610</td>\n",
       "      <td>13697</td>\n",
       "      <td>2.2</td>\n",
       "      <td>4</td>\n",
       "      <td>140</td>\n",
       "      <td>26.0</td>\n",
       "      <td>37.0</td>\n",
       "      <td>2617.0</td>\n",
       "      <td>104.0</td>\n",
       "      <td>183.0</td>\n",
       "      <td>69.0</td>\n",
       "    </tr>\n",
       "    <tr>\n",
       "      <th>3</th>\n",
       "      <td>Chevrolet Cavalier 4dr</td>\n",
       "      <td>False</td>\n",
       "      <td>False</td>\n",
       "      <td>False</td>\n",
       "      <td>False</td>\n",
       "      <td>False</td>\n",
       "      <td>False</td>\n",
       "      <td>False</td>\n",
       "      <td>14810</td>\n",
       "      <td>13884</td>\n",
       "      <td>2.2</td>\n",
       "      <td>4</td>\n",
       "      <td>140</td>\n",
       "      <td>26.0</td>\n",
       "      <td>37.0</td>\n",
       "      <td>2676.0</td>\n",
       "      <td>104.0</td>\n",
       "      <td>183.0</td>\n",
       "      <td>68.0</td>\n",
       "    </tr>\n",
       "    <tr>\n",
       "      <th>4</th>\n",
       "      <td>Chevrolet Cavalier LS 2dr</td>\n",
       "      <td>False</td>\n",
       "      <td>False</td>\n",
       "      <td>False</td>\n",
       "      <td>False</td>\n",
       "      <td>False</td>\n",
       "      <td>False</td>\n",
       "      <td>False</td>\n",
       "      <td>16385</td>\n",
       "      <td>15357</td>\n",
       "      <td>2.2</td>\n",
       "      <td>4</td>\n",
       "      <td>140</td>\n",
       "      <td>26.0</td>\n",
       "      <td>37.0</td>\n",
       "      <td>2617.0</td>\n",
       "      <td>104.0</td>\n",
       "      <td>183.0</td>\n",
       "      <td>69.0</td>\n",
       "    </tr>\n",
       "  </tbody>\n",
       "</table>\n",
       "</div>"
      ],
      "text/plain": [
       "                          name  sports_car    suv  wagon  minivan  pickup  \\\n",
       "0           Chevrolet Aveo 4dr       False  False  False    False   False   \n",
       "1  Chevrolet Aveo LS 4dr hatch       False  False  False    False   False   \n",
       "2       Chevrolet Cavalier 2dr       False  False  False    False   False   \n",
       "3       Chevrolet Cavalier 4dr       False  False  False    False   False   \n",
       "4    Chevrolet Cavalier LS 2dr       False  False  False    False   False   \n",
       "\n",
       "   all_wheel  rear_wheel   msrp  dealer_cost  eng_size  ncyl  horsepwr  \\\n",
       "0      False       False  11690        10965       1.6     4       103   \n",
       "1      False       False  12585        11802       1.6     4       103   \n",
       "2      False       False  14610        13697       2.2     4       140   \n",
       "3      False       False  14810        13884       2.2     4       140   \n",
       "4      False       False  16385        15357       2.2     4       140   \n",
       "\n",
       "   city_mpg  hwy_mpg  weight  wheel_base  length  width  \n",
       "0      28.0     34.0  2370.0        98.0   167.0   66.0  \n",
       "1      28.0     34.0  2348.0        98.0   153.0   66.0  \n",
       "2      26.0     37.0  2617.0       104.0   183.0   69.0  \n",
       "3      26.0     37.0  2676.0       104.0   183.0   68.0  \n",
       "4      26.0     37.0  2617.0       104.0   183.0   69.0  "
      ]
     },
     "execution_count": 18,
     "metadata": {},
     "output_type": "execute_result"
    }
   ],
   "source": [
    "Cars_Data.head()"
   ]
  },
  {
   "cell_type": "code",
   "execution_count": 19,
   "id": "f8844d23",
   "metadata": {},
   "outputs": [],
   "source": [
    "#Data Exploration"
   ]
  },
  {
   "cell_type": "code",
   "execution_count": 20,
   "id": "cd239301",
   "metadata": {},
   "outputs": [],
   "source": [
    "#msrp"
   ]
  },
  {
   "cell_type": "code",
   "execution_count": 21,
   "id": "963d3233",
   "metadata": {},
   "outputs": [
    {
     "data": {
      "text/plain": [
       "32774.85514018692"
      ]
     },
     "execution_count": 21,
     "metadata": {},
     "output_type": "execute_result"
    }
   ],
   "source": [
    "Cars_Data['msrp'].mean()"
   ]
  },
  {
   "cell_type": "code",
   "execution_count": 22,
   "id": "a83fcc47",
   "metadata": {},
   "outputs": [
    {
     "data": {
      "text/plain": [
       "192465"
      ]
     },
     "execution_count": 22,
     "metadata": {},
     "output_type": "execute_result"
    }
   ],
   "source": [
    "Cars_Data['msrp'].max()"
   ]
  },
  {
   "cell_type": "code",
   "execution_count": 23,
   "id": "e605cb89",
   "metadata": {},
   "outputs": [
    {
     "data": {
      "text/plain": [
       "10280"
      ]
     },
     "execution_count": 23,
     "metadata": {},
     "output_type": "execute_result"
    }
   ],
   "source": [
    "Cars_Data['msrp'].min()"
   ]
  },
  {
   "cell_type": "code",
   "execution_count": 24,
   "id": "cb0e49b3",
   "metadata": {},
   "outputs": [
    {
     "data": {
      "text/plain": [
       "19431.71667371752"
      ]
     },
     "execution_count": 24,
     "metadata": {},
     "output_type": "execute_result"
    }
   ],
   "source": [
    "Cars_Data['msrp'].std()"
   ]
  },
  {
   "cell_type": "code",
   "execution_count": 25,
   "id": "c5f518a8",
   "metadata": {},
   "outputs": [
    {
     "data": {
      "text/plain": [
       "428"
      ]
     },
     "execution_count": 25,
     "metadata": {},
     "output_type": "execute_result"
    }
   ],
   "source": [
    "Cars_Data['msrp'].count()"
   ]
  },
  {
   "cell_type": "code",
   "execution_count": 26,
   "id": "be42ecd7",
   "metadata": {},
   "outputs": [],
   "source": [
    "#msrp by car type"
   ]
  },
  {
   "cell_type": "code",
   "execution_count": 27,
   "id": "60222803",
   "metadata": {},
   "outputs": [
    {
     "data": {
      "text/plain": [
       "sports_car\n",
       "False    30109.952507\n",
       "True     53387.061224\n",
       "Name: msrp, dtype: float64"
      ]
     },
     "execution_count": 27,
     "metadata": {},
     "output_type": "execute_result"
    }
   ],
   "source": [
    "Cars_Data.groupby('sports_car')['msrp'].mean()"
   ]
  },
  {
   "cell_type": "code",
   "execution_count": 28,
   "id": "4b203ab4",
   "metadata": {},
   "outputs": [
    {
     "data": {
      "text/plain": [
       "suv\n",
       "False    32446.258152\n",
       "True     34790.250000\n",
       "Name: msrp, dtype: float64"
      ]
     },
     "execution_count": 28,
     "metadata": {},
     "output_type": "execute_result"
    }
   ],
   "source": [
    "Cars_Data.groupby('suv')['msrp'].mean()"
   ]
  },
  {
   "cell_type": "code",
   "execution_count": 29,
   "id": "fd1e0ee1",
   "metadata": {},
   "outputs": [
    {
     "data": {
      "text/plain": [
       "wagon\n",
       "False    33071.412060\n",
       "True     28840.533333\n",
       "Name: msrp, dtype: float64"
      ]
     },
     "execution_count": 29,
     "metadata": {},
     "output_type": "execute_result"
    }
   ],
   "source": [
    "Cars_Data.groupby('wagon')['msrp'].mean()"
   ]
  },
  {
   "cell_type": "code",
   "execution_count": 30,
   "id": "183c5619",
   "metadata": {},
   "outputs": [
    {
     "data": {
      "text/plain": [
       "minivan\n",
       "False    33018.892157\n",
       "True     27796.500000\n",
       "Name: msrp, dtype: float64"
      ]
     },
     "execution_count": 30,
     "metadata": {},
     "output_type": "execute_result"
    }
   ],
   "source": [
    "Cars_Data.groupby('minivan')['msrp'].mean()"
   ]
  },
  {
   "cell_type": "code",
   "execution_count": 31,
   "id": "ebd5a77d",
   "metadata": {},
   "outputs": [
    {
     "data": {
      "text/plain": [
       "pickup\n",
       "False    33240.210396\n",
       "True     24941.375000\n",
       "Name: msrp, dtype: float64"
      ]
     },
     "execution_count": 31,
     "metadata": {},
     "output_type": "execute_result"
    }
   ],
   "source": [
    "Cars_Data.groupby('pickup')['msrp'].mean()"
   ]
  },
  {
   "cell_type": "code",
   "execution_count": 32,
   "id": "8a0942ca",
   "metadata": {},
   "outputs": [
    {
     "data": {
      "text/plain": [
       "all_wheel\n",
       "False    31759.395833\n",
       "True     36483.489130\n",
       "Name: msrp, dtype: float64"
      ]
     },
     "execution_count": 32,
     "metadata": {},
     "output_type": "execute_result"
    }
   ],
   "source": [
    "Cars_Data.groupby('all_wheel')['msrp'].mean()"
   ]
  },
  {
   "cell_type": "code",
   "execution_count": 33,
   "id": "9b3f444e",
   "metadata": {},
   "outputs": [
    {
     "data": {
      "text/plain": [
       "rear_wheel\n",
       "False    28167.732704\n",
       "True     46093.627273\n",
       "Name: msrp, dtype: float64"
      ]
     },
     "execution_count": 33,
     "metadata": {},
     "output_type": "execute_result"
    }
   ],
   "source": [
    "Cars_Data.groupby('rear_wheel')['msrp'].mean()"
   ]
  },
  {
   "cell_type": "code",
   "execution_count": 34,
   "id": "a7768773",
   "metadata": {},
   "outputs": [],
   "source": [
    "#correlation with msrp"
   ]
  },
  {
   "cell_type": "code",
   "execution_count": 35,
   "id": "133a7579",
   "metadata": {},
   "outputs": [
    {
     "data": {
      "text/plain": [
       "0.9991316206272137"
      ]
     },
     "execution_count": 35,
     "metadata": {},
     "output_type": "execute_result"
    }
   ],
   "source": [
    "Cars_Data['dealer_cost'].corr(Cars_Data['msrp'])"
   ]
  },
  {
   "cell_type": "code",
   "execution_count": 36,
   "id": "be198fca",
   "metadata": {},
   "outputs": [
    {
     "data": {
      "text/plain": [
       "0.5717529618466337"
      ]
     },
     "execution_count": 36,
     "metadata": {},
     "output_type": "execute_result"
    }
   ],
   "source": [
    "Cars_Data['eng_size'].corr(Cars_Data['msrp'])"
   ]
  },
  {
   "cell_type": "code",
   "execution_count": 37,
   "id": "4c174250",
   "metadata": {},
   "outputs": [
    {
     "data": {
      "text/plain": [
       "0.62875728749234"
      ]
     },
     "execution_count": 37,
     "metadata": {},
     "output_type": "execute_result"
    }
   ],
   "source": [
    "Cars_Data['ncyl'].corr(Cars_Data['msrp'])"
   ]
  },
  {
   "cell_type": "code",
   "execution_count": 38,
   "id": "c05f1215",
   "metadata": {},
   "outputs": [
    {
     "data": {
      "text/plain": [
       "0.8269450085627251"
      ]
     },
     "execution_count": 38,
     "metadata": {},
     "output_type": "execute_result"
    }
   ],
   "source": [
    "Cars_Data['horsepwr'].corr(Cars_Data['msrp'])"
   ]
  },
  {
   "cell_type": "code",
   "execution_count": 39,
   "id": "6cf97d7b",
   "metadata": {},
   "outputs": [
    {
     "data": {
      "text/plain": [
       "-0.46112963133335716"
      ]
     },
     "execution_count": 39,
     "metadata": {},
     "output_type": "execute_result"
    }
   ],
   "source": [
    "Cars_Data['city_mpg'].corr(Cars_Data['msrp'])"
   ]
  },
  {
   "cell_type": "code",
   "execution_count": 40,
   "id": "55b82217",
   "metadata": {},
   "outputs": [
    {
     "data": {
      "text/plain": [
       "-0.42939568337608813"
      ]
     },
     "execution_count": 40,
     "metadata": {},
     "output_type": "execute_result"
    }
   ],
   "source": [
    "Cars_Data['hwy_mpg'].corr(Cars_Data['msrp'])"
   ]
  },
  {
   "cell_type": "code",
   "execution_count": 41,
   "id": "6bd00e5d",
   "metadata": {},
   "outputs": [
    {
     "data": {
      "text/plain": [
       "0.4493356676870791"
      ]
     },
     "execution_count": 41,
     "metadata": {},
     "output_type": "execute_result"
    }
   ],
   "source": [
    "Cars_Data['weight'].corr(Cars_Data['msrp'])"
   ]
  },
  {
   "cell_type": "code",
   "execution_count": 42,
   "id": "8d7d9419",
   "metadata": {},
   "outputs": [],
   "source": [
    "#sport cars correlation"
   ]
  },
  {
   "cell_type": "code",
   "execution_count": 43,
   "id": "18fcf8eb",
   "metadata": {},
   "outputs": [],
   "source": [
    "Sport_Cars_Data=Cars_Data[Cars_Data['sports_car'] == True]"
   ]
  },
  {
   "cell_type": "code",
   "execution_count": 44,
   "id": "759e3d7e",
   "metadata": {},
   "outputs": [
    {
     "data": {
      "text/html": [
       "<div>\n",
       "<style scoped>\n",
       "    .dataframe tbody tr th:only-of-type {\n",
       "        vertical-align: middle;\n",
       "    }\n",
       "\n",
       "    .dataframe tbody tr th {\n",
       "        vertical-align: top;\n",
       "    }\n",
       "\n",
       "    .dataframe thead th {\n",
       "        text-align: right;\n",
       "    }\n",
       "</style>\n",
       "<table border=\"1\" class=\"dataframe\">\n",
       "  <thead>\n",
       "    <tr style=\"text-align: right;\">\n",
       "      <th></th>\n",
       "      <th>name</th>\n",
       "      <th>sports_car</th>\n",
       "      <th>suv</th>\n",
       "      <th>wagon</th>\n",
       "      <th>minivan</th>\n",
       "      <th>pickup</th>\n",
       "      <th>all_wheel</th>\n",
       "      <th>rear_wheel</th>\n",
       "      <th>msrp</th>\n",
       "      <th>dealer_cost</th>\n",
       "      <th>eng_size</th>\n",
       "      <th>ncyl</th>\n",
       "      <th>horsepwr</th>\n",
       "      <th>city_mpg</th>\n",
       "      <th>hwy_mpg</th>\n",
       "      <th>weight</th>\n",
       "      <th>wheel_base</th>\n",
       "      <th>length</th>\n",
       "      <th>width</th>\n",
       "    </tr>\n",
       "  </thead>\n",
       "  <tbody>\n",
       "    <tr>\n",
       "      <th>245</th>\n",
       "      <td>Acura NSX coupe 2dr manual S</td>\n",
       "      <td>True</td>\n",
       "      <td>False</td>\n",
       "      <td>False</td>\n",
       "      <td>False</td>\n",
       "      <td>False</td>\n",
       "      <td>False</td>\n",
       "      <td>True</td>\n",
       "      <td>89765</td>\n",
       "      <td>79978</td>\n",
       "      <td>3.2</td>\n",
       "      <td>6</td>\n",
       "      <td>290</td>\n",
       "      <td>17.0</td>\n",
       "      <td>24.0</td>\n",
       "      <td>3153.0</td>\n",
       "      <td>100.0</td>\n",
       "      <td>174.0</td>\n",
       "      <td>71.0</td>\n",
       "    </tr>\n",
       "    <tr>\n",
       "      <th>246</th>\n",
       "      <td>Audi RS 6 4dr</td>\n",
       "      <td>True</td>\n",
       "      <td>False</td>\n",
       "      <td>False</td>\n",
       "      <td>False</td>\n",
       "      <td>False</td>\n",
       "      <td>False</td>\n",
       "      <td>False</td>\n",
       "      <td>84600</td>\n",
       "      <td>76417</td>\n",
       "      <td>4.2</td>\n",
       "      <td>8</td>\n",
       "      <td>450</td>\n",
       "      <td>15.0</td>\n",
       "      <td>22.0</td>\n",
       "      <td>4024.0</td>\n",
       "      <td>109.0</td>\n",
       "      <td>191.0</td>\n",
       "      <td>78.0</td>\n",
       "    </tr>\n",
       "    <tr>\n",
       "      <th>247</th>\n",
       "      <td>Audi TT 1.8 convertible 2dr (coupe)</td>\n",
       "      <td>True</td>\n",
       "      <td>False</td>\n",
       "      <td>False</td>\n",
       "      <td>False</td>\n",
       "      <td>False</td>\n",
       "      <td>False</td>\n",
       "      <td>False</td>\n",
       "      <td>35940</td>\n",
       "      <td>32512</td>\n",
       "      <td>1.8</td>\n",
       "      <td>4</td>\n",
       "      <td>180</td>\n",
       "      <td>20.0</td>\n",
       "      <td>28.0</td>\n",
       "      <td>3131.0</td>\n",
       "      <td>95.0</td>\n",
       "      <td>159.0</td>\n",
       "      <td>73.0</td>\n",
       "    </tr>\n",
       "    <tr>\n",
       "      <th>248</th>\n",
       "      <td>Audi TT 1.8 Quattro 2dr (convertible)</td>\n",
       "      <td>True</td>\n",
       "      <td>False</td>\n",
       "      <td>False</td>\n",
       "      <td>False</td>\n",
       "      <td>False</td>\n",
       "      <td>True</td>\n",
       "      <td>False</td>\n",
       "      <td>37390</td>\n",
       "      <td>33891</td>\n",
       "      <td>1.8</td>\n",
       "      <td>4</td>\n",
       "      <td>225</td>\n",
       "      <td>20.0</td>\n",
       "      <td>28.0</td>\n",
       "      <td>2921.0</td>\n",
       "      <td>96.0</td>\n",
       "      <td>159.0</td>\n",
       "      <td>73.0</td>\n",
       "    </tr>\n",
       "    <tr>\n",
       "      <th>249</th>\n",
       "      <td>Audi TT 3.2 coupe 2dr (convertible)</td>\n",
       "      <td>True</td>\n",
       "      <td>False</td>\n",
       "      <td>False</td>\n",
       "      <td>False</td>\n",
       "      <td>False</td>\n",
       "      <td>True</td>\n",
       "      <td>False</td>\n",
       "      <td>40590</td>\n",
       "      <td>36739</td>\n",
       "      <td>3.2</td>\n",
       "      <td>6</td>\n",
       "      <td>250</td>\n",
       "      <td>21.0</td>\n",
       "      <td>29.0</td>\n",
       "      <td>3351.0</td>\n",
       "      <td>96.0</td>\n",
       "      <td>159.0</td>\n",
       "      <td>73.0</td>\n",
       "    </tr>\n",
       "  </tbody>\n",
       "</table>\n",
       "</div>"
      ],
      "text/plain": [
       "                                      name  sports_car    suv  wagon  minivan  \\\n",
       "245           Acura NSX coupe 2dr manual S        True  False  False    False   \n",
       "246                          Audi RS 6 4dr        True  False  False    False   \n",
       "247    Audi TT 1.8 convertible 2dr (coupe)        True  False  False    False   \n",
       "248  Audi TT 1.8 Quattro 2dr (convertible)        True  False  False    False   \n",
       "249    Audi TT 3.2 coupe 2dr (convertible)        True  False  False    False   \n",
       "\n",
       "     pickup  all_wheel  rear_wheel   msrp  dealer_cost  eng_size  ncyl  \\\n",
       "245   False      False        True  89765        79978       3.2     6   \n",
       "246   False      False       False  84600        76417       4.2     8   \n",
       "247   False      False       False  35940        32512       1.8     4   \n",
       "248   False       True       False  37390        33891       1.8     4   \n",
       "249   False       True       False  40590        36739       3.2     6   \n",
       "\n",
       "     horsepwr  city_mpg  hwy_mpg  weight  wheel_base  length  width  \n",
       "245       290      17.0     24.0  3153.0       100.0   174.0   71.0  \n",
       "246       450      15.0     22.0  4024.0       109.0   191.0   78.0  \n",
       "247       180      20.0     28.0  3131.0        95.0   159.0   73.0  \n",
       "248       225      20.0     28.0  2921.0        96.0   159.0   73.0  \n",
       "249       250      21.0     29.0  3351.0        96.0   159.0   73.0  "
      ]
     },
     "execution_count": 44,
     "metadata": {},
     "output_type": "execute_result"
    }
   ],
   "source": [
    "Sport_Cars_Data.head()"
   ]
  },
  {
   "cell_type": "code",
   "execution_count": 45,
   "id": "d8025d6f",
   "metadata": {},
   "outputs": [
    {
     "data": {
      "text/plain": [
       "-0.5900002460591512"
      ]
     },
     "execution_count": 45,
     "metadata": {},
     "output_type": "execute_result"
    }
   ],
   "source": [
    "Sport_Cars_Data['hwy_mpg'].corr(Sport_Cars_Data['msrp'])"
   ]
  },
  {
   "cell_type": "code",
   "execution_count": 46,
   "id": "218844c9",
   "metadata": {},
   "outputs": [
    {
     "data": {
      "text/plain": [
       "-0.6308136860812209"
      ]
     },
     "execution_count": 46,
     "metadata": {},
     "output_type": "execute_result"
    }
   ],
   "source": [
    "Sport_Cars_Data['city_mpg'].corr(Sport_Cars_Data['msrp'])"
   ]
  },
  {
   "cell_type": "code",
   "execution_count": 47,
   "id": "99f129e5",
   "metadata": {},
   "outputs": [],
   "source": [
    "#non-sport cars correlation"
   ]
  },
  {
   "cell_type": "code",
   "execution_count": 48,
   "id": "eb3719ac",
   "metadata": {},
   "outputs": [],
   "source": [
    "NotSport_Cars_Data=Cars_Data[Cars_Data['sports_car'] == False]"
   ]
  },
  {
   "cell_type": "code",
   "execution_count": 49,
   "id": "caaac894",
   "metadata": {},
   "outputs": [
    {
     "data": {
      "text/html": [
       "<div>\n",
       "<style scoped>\n",
       "    .dataframe tbody tr th:only-of-type {\n",
       "        vertical-align: middle;\n",
       "    }\n",
       "\n",
       "    .dataframe tbody tr th {\n",
       "        vertical-align: top;\n",
       "    }\n",
       "\n",
       "    .dataframe thead th {\n",
       "        text-align: right;\n",
       "    }\n",
       "</style>\n",
       "<table border=\"1\" class=\"dataframe\">\n",
       "  <thead>\n",
       "    <tr style=\"text-align: right;\">\n",
       "      <th></th>\n",
       "      <th>name</th>\n",
       "      <th>sports_car</th>\n",
       "      <th>suv</th>\n",
       "      <th>wagon</th>\n",
       "      <th>minivan</th>\n",
       "      <th>pickup</th>\n",
       "      <th>all_wheel</th>\n",
       "      <th>rear_wheel</th>\n",
       "      <th>msrp</th>\n",
       "      <th>dealer_cost</th>\n",
       "      <th>eng_size</th>\n",
       "      <th>ncyl</th>\n",
       "      <th>horsepwr</th>\n",
       "      <th>city_mpg</th>\n",
       "      <th>hwy_mpg</th>\n",
       "      <th>weight</th>\n",
       "      <th>wheel_base</th>\n",
       "      <th>length</th>\n",
       "      <th>width</th>\n",
       "    </tr>\n",
       "  </thead>\n",
       "  <tbody>\n",
       "    <tr>\n",
       "      <th>0</th>\n",
       "      <td>Chevrolet Aveo 4dr</td>\n",
       "      <td>False</td>\n",
       "      <td>False</td>\n",
       "      <td>False</td>\n",
       "      <td>False</td>\n",
       "      <td>False</td>\n",
       "      <td>False</td>\n",
       "      <td>False</td>\n",
       "      <td>11690</td>\n",
       "      <td>10965</td>\n",
       "      <td>1.6</td>\n",
       "      <td>4</td>\n",
       "      <td>103</td>\n",
       "      <td>28.0</td>\n",
       "      <td>34.0</td>\n",
       "      <td>2370.0</td>\n",
       "      <td>98.0</td>\n",
       "      <td>167.0</td>\n",
       "      <td>66.0</td>\n",
       "    </tr>\n",
       "    <tr>\n",
       "      <th>1</th>\n",
       "      <td>Chevrolet Aveo LS 4dr hatch</td>\n",
       "      <td>False</td>\n",
       "      <td>False</td>\n",
       "      <td>False</td>\n",
       "      <td>False</td>\n",
       "      <td>False</td>\n",
       "      <td>False</td>\n",
       "      <td>False</td>\n",
       "      <td>12585</td>\n",
       "      <td>11802</td>\n",
       "      <td>1.6</td>\n",
       "      <td>4</td>\n",
       "      <td>103</td>\n",
       "      <td>28.0</td>\n",
       "      <td>34.0</td>\n",
       "      <td>2348.0</td>\n",
       "      <td>98.0</td>\n",
       "      <td>153.0</td>\n",
       "      <td>66.0</td>\n",
       "    </tr>\n",
       "    <tr>\n",
       "      <th>2</th>\n",
       "      <td>Chevrolet Cavalier 2dr</td>\n",
       "      <td>False</td>\n",
       "      <td>False</td>\n",
       "      <td>False</td>\n",
       "      <td>False</td>\n",
       "      <td>False</td>\n",
       "      <td>False</td>\n",
       "      <td>False</td>\n",
       "      <td>14610</td>\n",
       "      <td>13697</td>\n",
       "      <td>2.2</td>\n",
       "      <td>4</td>\n",
       "      <td>140</td>\n",
       "      <td>26.0</td>\n",
       "      <td>37.0</td>\n",
       "      <td>2617.0</td>\n",
       "      <td>104.0</td>\n",
       "      <td>183.0</td>\n",
       "      <td>69.0</td>\n",
       "    </tr>\n",
       "    <tr>\n",
       "      <th>3</th>\n",
       "      <td>Chevrolet Cavalier 4dr</td>\n",
       "      <td>False</td>\n",
       "      <td>False</td>\n",
       "      <td>False</td>\n",
       "      <td>False</td>\n",
       "      <td>False</td>\n",
       "      <td>False</td>\n",
       "      <td>False</td>\n",
       "      <td>14810</td>\n",
       "      <td>13884</td>\n",
       "      <td>2.2</td>\n",
       "      <td>4</td>\n",
       "      <td>140</td>\n",
       "      <td>26.0</td>\n",
       "      <td>37.0</td>\n",
       "      <td>2676.0</td>\n",
       "      <td>104.0</td>\n",
       "      <td>183.0</td>\n",
       "      <td>68.0</td>\n",
       "    </tr>\n",
       "    <tr>\n",
       "      <th>4</th>\n",
       "      <td>Chevrolet Cavalier LS 2dr</td>\n",
       "      <td>False</td>\n",
       "      <td>False</td>\n",
       "      <td>False</td>\n",
       "      <td>False</td>\n",
       "      <td>False</td>\n",
       "      <td>False</td>\n",
       "      <td>False</td>\n",
       "      <td>16385</td>\n",
       "      <td>15357</td>\n",
       "      <td>2.2</td>\n",
       "      <td>4</td>\n",
       "      <td>140</td>\n",
       "      <td>26.0</td>\n",
       "      <td>37.0</td>\n",
       "      <td>2617.0</td>\n",
       "      <td>104.0</td>\n",
       "      <td>183.0</td>\n",
       "      <td>69.0</td>\n",
       "    </tr>\n",
       "  </tbody>\n",
       "</table>\n",
       "</div>"
      ],
      "text/plain": [
       "                          name  sports_car    suv  wagon  minivan  pickup  \\\n",
       "0           Chevrolet Aveo 4dr       False  False  False    False   False   \n",
       "1  Chevrolet Aveo LS 4dr hatch       False  False  False    False   False   \n",
       "2       Chevrolet Cavalier 2dr       False  False  False    False   False   \n",
       "3       Chevrolet Cavalier 4dr       False  False  False    False   False   \n",
       "4    Chevrolet Cavalier LS 2dr       False  False  False    False   False   \n",
       "\n",
       "   all_wheel  rear_wheel   msrp  dealer_cost  eng_size  ncyl  horsepwr  \\\n",
       "0      False       False  11690        10965       1.6     4       103   \n",
       "1      False       False  12585        11802       1.6     4       103   \n",
       "2      False       False  14610        13697       2.2     4       140   \n",
       "3      False       False  14810        13884       2.2     4       140   \n",
       "4      False       False  16385        15357       2.2     4       140   \n",
       "\n",
       "   city_mpg  hwy_mpg  weight  wheel_base  length  width  \n",
       "0      28.0     34.0  2370.0        98.0   167.0   66.0  \n",
       "1      28.0     34.0  2348.0        98.0   153.0   66.0  \n",
       "2      26.0     37.0  2617.0       104.0   183.0   69.0  \n",
       "3      26.0     37.0  2676.0       104.0   183.0   68.0  \n",
       "4      26.0     37.0  2617.0       104.0   183.0   69.0  "
      ]
     },
     "execution_count": 49,
     "metadata": {},
     "output_type": "execute_result"
    }
   ],
   "source": [
    "NotSport_Cars_Data.head()"
   ]
  },
  {
   "cell_type": "code",
   "execution_count": 50,
   "id": "4d82819b",
   "metadata": {},
   "outputs": [
    {
     "data": {
      "text/plain": [
       "-0.49257087155792"
      ]
     },
     "execution_count": 50,
     "metadata": {},
     "output_type": "execute_result"
    }
   ],
   "source": [
    "NotSport_Cars_Data['hwy_mpg'].corr(NotSport_Cars_Data['msrp'])"
   ]
  },
  {
   "cell_type": "code",
   "execution_count": 51,
   "id": "493814d3",
   "metadata": {},
   "outputs": [
    {
     "data": {
      "text/plain": [
       "-0.5174295818936742"
      ]
     },
     "execution_count": 51,
     "metadata": {},
     "output_type": "execute_result"
    }
   ],
   "source": [
    "NotSport_Cars_Data['city_mpg'].corr(NotSport_Cars_Data['msrp'])"
   ]
  },
  {
   "cell_type": "code",
   "execution_count": 52,
   "id": "6c65f7b3",
   "metadata": {},
   "outputs": [],
   "source": [
    "#Looks like there is stronger negative correlation for sport cars' msrp and hwy_mpg/city_mpgp versus non-sport cars"
   ]
  },
  {
   "cell_type": "code",
   "execution_count": 53,
   "id": "164f8c58",
   "metadata": {},
   "outputs": [
    {
     "data": {
      "text/plain": [
       "0.6272866729367595"
      ]
     },
     "execution_count": 53,
     "metadata": {},
     "output_type": "execute_result"
    }
   ],
   "source": [
    "NotSport_Cars_Data['weight'].corr(NotSport_Cars_Data['msrp'])"
   ]
  },
  {
   "cell_type": "code",
   "execution_count": 54,
   "id": "7df2b53b",
   "metadata": {},
   "outputs": [
    {
     "data": {
      "text/plain": [
       "0.5265894419168665"
      ]
     },
     "execution_count": 54,
     "metadata": {},
     "output_type": "execute_result"
    }
   ],
   "source": [
    "Sport_Cars_Data['weight'].corr(Sport_Cars_Data['msrp'])"
   ]
  },
  {
   "cell_type": "code",
   "execution_count": 55,
   "id": "a2131d82",
   "metadata": {},
   "outputs": [],
   "source": [
    "#Weight has a stronger correlation with MSRP for non-sports cars. Sports cars may use expensive materials to decrease weight. Despite this weight is still positivily correlated with MSRP, implying features like bigger engines and more legroom affect price more than an effort to keep weight down. "
   ]
  },
  {
   "cell_type": "code",
   "execution_count": 56,
   "id": "cb6b68e1",
   "metadata": {},
   "outputs": [
    {
     "data": {
      "text/plain": [
       "0.15035398259821192"
      ]
     },
     "execution_count": 56,
     "metadata": {},
     "output_type": "execute_result"
    }
   ],
   "source": [
    "Cars_Data['wheel_base'].corr(Cars_Data['msrp'])"
   ]
  },
  {
   "cell_type": "code",
   "execution_count": 57,
   "id": "f04a5419",
   "metadata": {},
   "outputs": [
    {
     "data": {
      "text/plain": [
       "0.214888960437098"
      ]
     },
     "execution_count": 57,
     "metadata": {},
     "output_type": "execute_result"
    }
   ],
   "source": [
    "Cars_Data['length'].corr(Cars_Data['msrp'])"
   ]
  },
  {
   "cell_type": "code",
   "execution_count": 58,
   "id": "df47681c",
   "metadata": {},
   "outputs": [
    {
     "data": {
      "text/plain": [
       "0.3281128904585705"
      ]
     },
     "execution_count": 58,
     "metadata": {},
     "output_type": "execute_result"
    }
   ],
   "source": [
    "Cars_Data['width'].corr(Cars_Data['msrp'])"
   ]
  },
  {
   "cell_type": "code",
   "execution_count": 59,
   "id": "7dcd42b3",
   "metadata": {},
   "outputs": [],
   "source": [
    "#Wheel_base, length and width are positively correlated with MSRP, implying bigger cars are more expensive. \n",
    "#It's worth noting weight has a much stonger correlation with price than size."
   ]
  },
  {
   "cell_type": "code",
   "execution_count": 60,
   "id": "844f4db6",
   "metadata": {},
   "outputs": [],
   "source": [
    "#I examine each variable. I create a histogram and scatter plot for each one."
   ]
  },
  {
   "cell_type": "code",
   "execution_count": 61,
   "id": "7681bff5",
   "metadata": {},
   "outputs": [
    {
     "data": {
      "text/plain": [
       "<Axes: title={'center': 'MSRP'}, xlabel='Dollars', ylabel='Frequency'>"
      ]
     },
     "execution_count": 61,
     "metadata": {},
     "output_type": "execute_result"
    },
    {
     "data": {
      "image/png": "[encoded data removed]",
      "text/plain": [
       "<Figure size 640x480 with 1 Axes>"
      ]
     },
     "metadata": {},
     "output_type": "display_data"
    }
   ],
   "source": [
    "plt.title('MSRP')\n",
    "plt.xlabel('Dollars')\n",
    "plt.ylabel('Frequency')\n",
    "plt.grid(axis='y', alpha=0.75)\n",
    "Cars_Data['msrp'].plot.hist(grid=True, bins=40, rwidth=0.9, color='#607c8e')"
   ]
  },
  {
   "cell_type": "code",
   "execution_count": null,
   "id": "4744fcad",
   "metadata": {},
   "outputs": [],
   "source": [
    "#There is an obvious outlier in the dataset. I will later remove the car that is an outlier from the dataset.\n",
    "#There is not enough data to create a model that applies to cars that are that expensive.\n",
    "#It is more constructive to analyze the less expensive cars given the available data."
   ]
  },
  {
   "cell_type": "code",
   "execution_count": 63,
   "id": "512252e3",
   "metadata": {},
   "outputs": [
    {
     "data": {
      "text/plain": [
       "<Axes: title={'center': 'MSRP: Log Transformation'}, xlabel='Dollars', ylabel='Frequency'>"
      ]
     },
     "execution_count": 63,
     "metadata": {},
     "output_type": "execute_result"
    },
    {
     "data": {
      "image/png": "[encoded data removed]",
      "text/plain": [
       "<Figure size 640x480 with 1 Axes>"
      ]
     },
     "metadata": {},
     "output_type": "display_data"
    }
   ],
   "source": [
    "plt.title('MSRP: Log Transformation')\n",
    "plt.xlabel('Dollars')\n",
    "plt.ylabel('Frequency')\n",
    "plt.grid(axis='y', alpha=0.75)\n",
    "LogCars=pd.DataFrame(np.log10(Cars_Data['msrp']))\n",
    "LogCars['msrp'].plot.hist(grid=True, bins=40, rwidth=0.9, color='#607c8e')"
   ]
  },
  {
   "cell_type": "code",
   "execution_count": null,
   "id": "ec1246b2",
   "metadata": {},
   "outputs": [],
   "source": [
    "#Transforming the MSRP variable seems to prove it has a log-normal distribution"
   ]
  },
  {
   "cell_type": "code",
   "execution_count": 64,
   "id": "f5c3341d",
   "metadata": {},
   "outputs": [
    {
     "data": {
      "text/plain": [
       "<Axes: title={'center': 'Dealer Cost'}, xlabel='Dollars', ylabel='Frequency'>"
      ]
     },
     "execution_count": 64,
     "metadata": {},
     "output_type": "execute_result"
    },
    {
     "data": {
      "image/png": "[encoded data removed]",
      "text/plain": [
       "<Figure size 640x480 with 1 Axes>"
      ]
     },
     "metadata": {},
     "output_type": "display_data"
    }
   ],
   "source": [
    "plt.title('Dealer Cost')\n",
    "plt.xlabel('Dollars')\n",
    "plt.ylabel('Frequency')\n",
    "plt.grid(axis='y', alpha=0.75)\n",
    "Cars_Data['dealer_cost'].plot.hist(grid=True, bins=40, rwidth=0.9, color='#607c8e')"
   ]
  },
  {
   "cell_type": "code",
   "execution_count": 66,
   "id": "9653e069",
   "metadata": {},
   "outputs": [
    {
     "data": {
      "text/plain": [
       "<Axes: xlabel='dealer_cost', ylabel='msrp'>"
      ]
     },
     "execution_count": 66,
     "metadata": {},
     "output_type": "execute_result"
    },
    {
     "data": {
      "image/png": "[encoded data removed]",
      "text/plain": [
       "<Figure size 640x480 with 1 Axes>"
      ]
     },
     "metadata": {},
     "output_type": "display_data"
    }
   ],
   "source": [
    "Cars_Data.plot.scatter(y='msrp',x='dealer_cost')"
   ]
  },
  {
   "cell_type": "code",
   "execution_count": 67,
   "id": "b3189d3a",
   "metadata": {},
   "outputs": [
    {
     "data": {
      "text/plain": [
       "<Axes: title={'center': 'Engine Size'}, xlabel='Liters', ylabel='Frequency'>"
      ]
     },
     "execution_count": 67,
     "metadata": {},
     "output_type": "execute_result"
    },
    {
     "data": {
      "image/png": "[encoded data removed]",
      "text/plain": [
       "<Figure size 640x480 with 1 Axes>"
      ]
     },
     "metadata": {},
     "output_type": "display_data"
    }
   ],
   "source": [
    "plt.title('Engine Size')\n",
    "plt.xlabel('Liters')\n",
    "plt.ylabel('Frequency')\n",
    "plt.grid(axis='y', alpha=0.75)\n",
    "Cars_Data['eng_size'].plot.hist(grid=True, bins=40, rwidth=0.9, color='#607c8e')"
   ]
  },
  {
   "cell_type": "code",
   "execution_count": 68,
   "id": "4e394872",
   "metadata": {},
   "outputs": [
    {
     "data": {
      "text/plain": [
       "<Axes: xlabel='eng_size', ylabel='msrp'>"
      ]
     },
     "execution_count": 68,
     "metadata": {},
     "output_type": "execute_result"
    },
    {
     "data": {
      "image/png": "[encoded data removed]",
      "text/plain": [
       "<Figure size 640x480 with 1 Axes>"
      ]
     },
     "metadata": {},
     "output_type": "display_data"
    }
   ],
   "source": [
    "Cars_Data.plot.scatter(y='msrp',x='eng_size')"
   ]
  },
  {
   "cell_type": "code",
   "execution_count": 69,
   "id": "9974d95b",
   "metadata": {},
   "outputs": [],
   "source": [
    "un_cylinders=[Cars_Data['ncyl'].unique()]"
   ]
  },
  {
   "cell_type": "code",
   "execution_count": 70,
   "id": "c473d370",
   "metadata": {},
   "outputs": [
    {
     "data": {
      "text/plain": [
       "[array([ 4,  6,  3,  8,  5, 12, 10, -1], dtype=int64)]"
      ]
     },
     "execution_count": 70,
     "metadata": {},
     "output_type": "execute_result"
    }
   ],
   "source": [
    "un_cylinders"
   ]
  },
  {
   "cell_type": "code",
   "execution_count": 71,
   "id": "ff4f48c1",
   "metadata": {},
   "outputs": [
    {
     "data": {
      "text/plain": [
       "<Axes: title={'center': 'Engine Size'}, xlabel='Cylinders', ylabel='Frequency'>"
      ]
     },
     "execution_count": 71,
     "metadata": {},
     "output_type": "execute_result"
    },
    {
     "data": {
      "image/png": "[encoded data removed]",
      "text/plain": [
       "<Figure size 640x480 with 1 Axes>"
      ]
     },
     "metadata": {},
     "output_type": "display_data"
    }
   ],
   "source": [
    "plt.title('Engine Size')\n",
    "plt.xlabel('Cylinders')\n",
    "plt.ylabel('Frequency')\n",
    "plt.grid(axis='y', alpha=0.75)\n",
    "Cars_Data['ncyl'].plot.hist(grid=True, bins=40, rwidth=0.9, color='#607c8e')"
   ]
  },
  {
   "cell_type": "code",
   "execution_count": 72,
   "id": "691d73cc",
   "metadata": {},
   "outputs": [
    {
     "data": {
      "text/plain": [
       "<Axes: xlabel='ncyl', ylabel='msrp'>"
      ]
     },
     "execution_count": 72,
     "metadata": {},
     "output_type": "execute_result"
    },
    {
     "data": {
      "image/png": "[encoded data removed]",
      "text/plain": [
       "<Figure size 640x480 with 1 Axes>"
      ]
     },
     "metadata": {},
     "output_type": "display_data"
    }
   ],
   "source": [
    "Cars_Data.plot.scatter(y='msrp',x='ncyl')"
   ]
  },
  {
   "cell_type": "code",
   "execution_count": 73,
   "id": "c9170d11",
   "metadata": {},
   "outputs": [],
   "source": [
    "Oddball=Cars_Data[Cars_Data['ncyl']==-1]"
   ]
  },
  {
   "cell_type": "code",
   "execution_count": 74,
   "id": "6ec2556e",
   "metadata": {},
   "outputs": [
    {
     "data": {
      "text/html": [
       "<div>\n",
       "<style scoped>\n",
       "    .dataframe tbody tr th:only-of-type {\n",
       "        vertical-align: middle;\n",
       "    }\n",
       "\n",
       "    .dataframe tbody tr th {\n",
       "        vertical-align: top;\n",
       "    }\n",
       "\n",
       "    .dataframe thead th {\n",
       "        text-align: right;\n",
       "    }\n",
       "</style>\n",
       "<table border=\"1\" class=\"dataframe\">\n",
       "  <thead>\n",
       "    <tr style=\"text-align: right;\">\n",
       "      <th></th>\n",
       "      <th>name</th>\n",
       "      <th>sports_car</th>\n",
       "      <th>suv</th>\n",
       "      <th>wagon</th>\n",
       "      <th>minivan</th>\n",
       "      <th>pickup</th>\n",
       "      <th>all_wheel</th>\n",
       "      <th>rear_wheel</th>\n",
       "      <th>msrp</th>\n",
       "      <th>dealer_cost</th>\n",
       "      <th>eng_size</th>\n",
       "      <th>ncyl</th>\n",
       "      <th>horsepwr</th>\n",
       "      <th>city_mpg</th>\n",
       "      <th>hwy_mpg</th>\n",
       "      <th>weight</th>\n",
       "      <th>wheel_base</th>\n",
       "      <th>length</th>\n",
       "      <th>width</th>\n",
       "    </tr>\n",
       "  </thead>\n",
       "  <tbody>\n",
       "    <tr>\n",
       "      <th>271</th>\n",
       "      <td>Mazda RX-8 4dr automatic</td>\n",
       "      <td>True</td>\n",
       "      <td>False</td>\n",
       "      <td>False</td>\n",
       "      <td>False</td>\n",
       "      <td>False</td>\n",
       "      <td>False</td>\n",
       "      <td>True</td>\n",
       "      <td>25700</td>\n",
       "      <td>23794</td>\n",
       "      <td>1.3</td>\n",
       "      <td>-1</td>\n",
       "      <td>197</td>\n",
       "      <td>18.0</td>\n",
       "      <td>25.0</td>\n",
       "      <td>3053.0</td>\n",
       "      <td>106.0</td>\n",
       "      <td>174.0</td>\n",
       "      <td>NaN</td>\n",
       "    </tr>\n",
       "    <tr>\n",
       "      <th>272</th>\n",
       "      <td>Mazda RX-8 4dr manual</td>\n",
       "      <td>True</td>\n",
       "      <td>False</td>\n",
       "      <td>False</td>\n",
       "      <td>False</td>\n",
       "      <td>False</td>\n",
       "      <td>False</td>\n",
       "      <td>True</td>\n",
       "      <td>27200</td>\n",
       "      <td>25179</td>\n",
       "      <td>1.3</td>\n",
       "      <td>-1</td>\n",
       "      <td>238</td>\n",
       "      <td>18.0</td>\n",
       "      <td>24.0</td>\n",
       "      <td>3029.0</td>\n",
       "      <td>106.0</td>\n",
       "      <td>174.0</td>\n",
       "      <td>NaN</td>\n",
       "    </tr>\n",
       "  </tbody>\n",
       "</table>\n",
       "</div>"
      ],
      "text/plain": [
       "                         name  sports_car    suv  wagon  minivan  pickup  \\\n",
       "271  Mazda RX-8 4dr automatic        True  False  False    False   False   \n",
       "272     Mazda RX-8 4dr manual        True  False  False    False   False   \n",
       "\n",
       "     all_wheel  rear_wheel   msrp  dealer_cost  eng_size  ncyl  horsepwr  \\\n",
       "271      False        True  25700        23794       1.3    -1       197   \n",
       "272      False        True  27200        25179       1.3    -1       238   \n",
       "\n",
       "     city_mpg  hwy_mpg  weight  wheel_base  length  width  \n",
       "271      18.0     25.0  3053.0       106.0   174.0    NaN  \n",
       "272      18.0     24.0  3029.0       106.0   174.0    NaN  "
      ]
     },
     "execution_count": 74,
     "metadata": {},
     "output_type": "execute_result"
    }
   ],
   "source": [
    "Oddball.head()"
   ]
  },
  {
   "cell_type": "code",
   "execution_count": 75,
   "id": "e4d70d10",
   "metadata": {},
   "outputs": [],
   "source": [
    "#Research shows the Mazda RX-8 (the car with -1 for the number of cylinders) uses a triangular rotor instead of cylinders"
   ]
  },
  {
   "cell_type": "code",
   "execution_count": 76,
   "id": "e42f1566",
   "metadata": {},
   "outputs": [
    {
     "data": {
      "text/plain": [
       "<Axes: title={'center': 'Horsepower'}, xlabel='Horses', ylabel='Frequency'>"
      ]
     },
     "execution_count": 76,
     "metadata": {},
     "output_type": "execute_result"
    },
    {
     "data": {
      "image/png": "[encoded data removed]",
      "text/plain": [
       "<Figure size 640x480 with 1 Axes>"
      ]
     },
     "metadata": {},
     "output_type": "display_data"
    }
   ],
   "source": [
    "plt.title('Horsepower')\n",
    "plt.xlabel('Horses')\n",
    "plt.ylabel('Frequency')\n",
    "plt.grid(axis='y', alpha=0.75)\n",
    "Cars_Data['horsepwr'].plot.hist(grid=True, bins=40, rwidth=0.9, color='#607c8e')"
   ]
  },
  {
   "cell_type": "code",
   "execution_count": 77,
   "id": "968d4a83",
   "metadata": {},
   "outputs": [
    {
     "data": {
      "text/plain": [
       "<Axes: title={'center': 'Horsepower: Log Transformation'}, xlabel='Dollars', ylabel='Frequency'>"
      ]
     },
     "execution_count": 77,
     "metadata": {},
     "output_type": "execute_result"
    },
    {
     "data": {
      "image/png": "[encoded data removed]",
      "text/plain": [
       "<Figure size 640x480 with 1 Axes>"
      ]
     },
     "metadata": {},
     "output_type": "display_data"
    }
   ],
   "source": [
    "plt.title('Horsepower: Log Transformation')\n",
    "plt.xlabel('Dollars')\n",
    "plt.ylabel('Frequency')\n",
    "plt.grid(axis='y', alpha=0.75)\n",
    "LogHpwr=pd.DataFrame(np.log10(Cars_Data['horsepwr']))\n",
    "LogHpwr['horsepwr'].plot.hist(grid=True, bins=40, rwidth=0.9, color='#607c8e')"
   ]
  },
  {
   "cell_type": "code",
   "execution_count": 78,
   "id": "e41c84be",
   "metadata": {
    "scrolled": true
   },
   "outputs": [
    {
     "data": {
      "text/plain": [
       "<Axes: xlabel='horsepwr', ylabel='msrp'>"
      ]
     },
     "execution_count": 78,
     "metadata": {},
     "output_type": "execute_result"
    },
    {
     "data": {
      "image/png": "[encoded data removed]",
      "text/plain": [
       "<Figure size 640x480 with 1 Axes>"
      ]
     },
     "metadata": {},
     "output_type": "display_data"
    }
   ],
   "source": [
    "Cars_Data.plot.scatter(y='msrp',x='horsepwr')"
   ]
  },
  {
   "cell_type": "code",
   "execution_count": 79,
   "id": "95f619da",
   "metadata": {},
   "outputs": [
    {
     "data": {
      "text/plain": [
       "<Axes: title={'center': 'City MPG'}, xlabel='MPG', ylabel='Frequency'>"
      ]
     },
     "execution_count": 79,
     "metadata": {},
     "output_type": "execute_result"
    },
    {
     "data": {
      "image/png": "[encoded data removed]",
      "text/plain": [
       "<Figure size 640x480 with 1 Axes>"
      ]
     },
     "metadata": {},
     "output_type": "display_data"
    }
   ],
   "source": [
    "plt.title('City MPG')\n",
    "plt.xlabel('MPG')\n",
    "plt.ylabel('Frequency')\n",
    "plt.grid(axis='y', alpha=0.75)\n",
    "Cars_Data['city_mpg'].plot.hist(grid=True, bins=40, rwidth=0.9, color='#607c8e')"
   ]
  },
  {
   "cell_type": "code",
   "execution_count": null,
   "id": "ea02323d",
   "metadata": {},
   "outputs": [],
   "source": [
    "#There seems to be an outlier, a single car that has almost 60 mpg in the city. Removing the car may improve the model."
   ]
  },
  {
   "cell_type": "code",
   "execution_count": 80,
   "id": "32305896",
   "metadata": {},
   "outputs": [
    {
     "data": {
      "text/plain": [
       "<Axes: title={'center': 'MPG: Log Transformation'}, xlabel='Dollars', ylabel='Frequency'>"
      ]
     },
     "execution_count": 80,
     "metadata": {},
     "output_type": "execute_result"
    },
    {
     "data": {
      "image/png": "[encoded data removed]",
      "text/plain": [
       "<Figure size 640x480 with 1 Axes>"
      ]
     },
     "metadata": {},
     "output_type": "display_data"
    }
   ],
   "source": [
    "plt.title('MPG: Log Transformation')\n",
    "plt.xlabel('Dollars')\n",
    "plt.ylabel('Frequency')\n",
    "plt.grid(axis='y', alpha=0.75)\n",
    "LogCity=pd.DataFrame(np.log10(Cars_Data['city_mpg']))\n",
    "LogCity['city_mpg'].plot.hist(grid=True, bins=40, rwidth=0.9, color='#607c8e')"
   ]
  },
  {
   "cell_type": "code",
   "execution_count": 81,
   "id": "f17c2230",
   "metadata": {},
   "outputs": [
    {
     "data": {
      "text/plain": [
       "<Axes: xlabel='city_mpg', ylabel='msrp'>"
      ]
     },
     "execution_count": 81,
     "metadata": {},
     "output_type": "execute_result"
    },
    {
     "data": {
      "image/png": "[encoded data removed]",
      "text/plain": [
       "<Figure size 640x480 with 1 Axes>"
      ]
     },
     "metadata": {},
     "output_type": "display_data"
    }
   ],
   "source": [
    "Cars_Data.plot.scatter(y='msrp',x='city_mpg')"
   ]
  },
  {
   "cell_type": "code",
   "execution_count": 82,
   "id": "219f442b",
   "metadata": {},
   "outputs": [
    {
     "data": {
      "text/plain": [
       "<Axes: title={'center': 'Highway MPG'}, xlabel='MPG', ylabel='Frequency'>"
      ]
     },
     "execution_count": 82,
     "metadata": {},
     "output_type": "execute_result"
    },
    {
     "data": {
      "image/png": "[encoded data removed]",
      "text/plain": [
       "<Figure size 640x480 with 1 Axes>"
      ]
     },
     "metadata": {},
     "output_type": "display_data"
    }
   ],
   "source": [
    "plt.title('Highway MPG')\n",
    "plt.xlabel('MPG')\n",
    "plt.ylabel('Frequency')\n",
    "plt.grid(axis='y', alpha=0.75)\n",
    "Cars_Data['hwy_mpg'].plot.hist(grid=True, bins=40, rwidth=0.9, color='#607c8e')"
   ]
  },
  {
   "cell_type": "code",
   "execution_count": 83,
   "id": "d0bd1dbc",
   "metadata": {},
   "outputs": [
    {
     "data": {
      "text/plain": [
       "<Axes: title={'center': 'MPG: Log Transformation'}, xlabel='Dollars', ylabel='Frequency'>"
      ]
     },
     "execution_count": 83,
     "metadata": {},
     "output_type": "execute_result"
    },
    {
     "data": {
      "image/png": "[encoded data removed]",
      "text/plain": [
       "<Figure size 640x480 with 1 Axes>"
      ]
     },
     "metadata": {},
     "output_type": "display_data"
    }
   ],
   "source": [
    "plt.title('MPG: Log Transformation')\n",
    "plt.xlabel('Dollars')\n",
    "plt.ylabel('Frequency')\n",
    "plt.grid(axis='y', alpha=0.75)\n",
    "LogCity=pd.DataFrame(np.log10(Cars_Data['city_mpg']))\n",
    "LogCity['city_mpg'].plot.hist(grid=True, bins=40, rwidth=0.9, color='#607c8e')"
   ]
  },
  {
   "cell_type": "code",
   "execution_count": 84,
   "id": "99caa8fe",
   "metadata": {},
   "outputs": [
    {
     "data": {
      "text/plain": [
       "<Axes: xlabel='hwy_mpg', ylabel='msrp'>"
      ]
     },
     "execution_count": 84,
     "metadata": {},
     "output_type": "execute_result"
    },
    {
     "data": {
      "image/png": "[encoded data removed]",
      "text/plain": [
       "<Figure size 640x480 with 1 Axes>"
      ]
     },
     "metadata": {},
     "output_type": "display_data"
    }
   ],
   "source": [
    "Cars_Data.plot.scatter(y='msrp',x='hwy_mpg')"
   ]
  },
  {
   "cell_type": "code",
   "execution_count": 85,
   "id": "8bfdd14e",
   "metadata": {},
   "outputs": [],
   "source": [
    "Oddball=Cars_Data[Cars_Data['hwy_mpg']==66]"
   ]
  },
  {
   "cell_type": "code",
   "execution_count": 86,
   "id": "1f14c483",
   "metadata": {},
   "outputs": [
    {
     "data": {
      "text/html": [
       "<div>\n",
       "<style scoped>\n",
       "    .dataframe tbody tr th:only-of-type {\n",
       "        vertical-align: middle;\n",
       "    }\n",
       "\n",
       "    .dataframe tbody tr th {\n",
       "        vertical-align: top;\n",
       "    }\n",
       "\n",
       "    .dataframe thead th {\n",
       "        text-align: right;\n",
       "    }\n",
       "</style>\n",
       "<table border=\"1\" class=\"dataframe\">\n",
       "  <thead>\n",
       "    <tr style=\"text-align: right;\">\n",
       "      <th></th>\n",
       "      <th>name</th>\n",
       "      <th>sports_car</th>\n",
       "      <th>suv</th>\n",
       "      <th>wagon</th>\n",
       "      <th>minivan</th>\n",
       "      <th>pickup</th>\n",
       "      <th>all_wheel</th>\n",
       "      <th>rear_wheel</th>\n",
       "      <th>msrp</th>\n",
       "      <th>dealer_cost</th>\n",
       "      <th>eng_size</th>\n",
       "      <th>ncyl</th>\n",
       "      <th>horsepwr</th>\n",
       "      <th>city_mpg</th>\n",
       "      <th>hwy_mpg</th>\n",
       "      <th>weight</th>\n",
       "      <th>wheel_base</th>\n",
       "      <th>length</th>\n",
       "      <th>width</th>\n",
       "    </tr>\n",
       "  </thead>\n",
       "  <tbody>\n",
       "    <tr>\n",
       "      <th>69</th>\n",
       "      <td>Honda Insight 2dr (gas/electric)</td>\n",
       "      <td>False</td>\n",
       "      <td>False</td>\n",
       "      <td>False</td>\n",
       "      <td>False</td>\n",
       "      <td>False</td>\n",
       "      <td>False</td>\n",
       "      <td>False</td>\n",
       "      <td>19110</td>\n",
       "      <td>17911</td>\n",
       "      <td>2.0</td>\n",
       "      <td>3</td>\n",
       "      <td>73</td>\n",
       "      <td>60.0</td>\n",
       "      <td>66.0</td>\n",
       "      <td>1850.0</td>\n",
       "      <td>95.0</td>\n",
       "      <td>155.0</td>\n",
       "      <td>67.0</td>\n",
       "    </tr>\n",
       "  </tbody>\n",
       "</table>\n",
       "</div>"
      ],
      "text/plain": [
       "                                name  sports_car    suv  wagon  minivan  \\\n",
       "69  Honda Insight 2dr (gas/electric)       False  False  False    False   \n",
       "\n",
       "    pickup  all_wheel  rear_wheel   msrp  dealer_cost  eng_size  ncyl  \\\n",
       "69   False      False       False  19110        17911       2.0     3   \n",
       "\n",
       "    horsepwr  city_mpg  hwy_mpg  weight  wheel_base  length  width  \n",
       "69        73      60.0     66.0  1850.0        95.0   155.0   67.0  "
      ]
     },
     "execution_count": 86,
     "metadata": {},
     "output_type": "execute_result"
    }
   ],
   "source": [
    "Oddball.head()"
   ]
  },
  {
   "cell_type": "code",
   "execution_count": 87,
   "id": "4a29ed0a",
   "metadata": {},
   "outputs": [
    {
     "data": {
      "text/plain": [
       "<Axes: title={'center': 'Weight'}, xlabel='Pounds', ylabel='Frequency'>"
      ]
     },
     "execution_count": 87,
     "metadata": {},
     "output_type": "execute_result"
    },
    {
     "data": {
      "image/png": "[encoded data removed]",
      "text/plain": [
       "<Figure size 640x480 with 1 Axes>"
      ]
     },
     "metadata": {},
     "output_type": "display_data"
    }
   ],
   "source": [
    "plt.title('Weight')\n",
    "plt.xlabel('Pounds')\n",
    "plt.ylabel('Frequency')\n",
    "plt.grid(axis='y', alpha=0.75)\n",
    "Cars_Data['weight'].plot.hist(grid=True, bins=40, rwidth=0.9, color='#607c8e')"
   ]
  },
  {
   "cell_type": "code",
   "execution_count": 88,
   "id": "803a8979",
   "metadata": {},
   "outputs": [
    {
     "data": {
      "text/plain": [
       "<Axes: xlabel='weight', ylabel='msrp'>"
      ]
     },
     "execution_count": 88,
     "metadata": {},
     "output_type": "execute_result"
    },
    {
     "data": {
      "image/png": "[encoded data removed]",
      "text/plain": [
       "<Figure size 640x480 with 1 Axes>"
      ]
     },
     "metadata": {},
     "output_type": "display_data"
    }
   ],
   "source": [
    "Cars_Data.plot.scatter(y='msrp',x='weight')"
   ]
  },
  {
   "cell_type": "code",
   "execution_count": 89,
   "id": "7c75b23d",
   "metadata": {},
   "outputs": [
    {
     "data": {
      "text/plain": [
       "<Axes: title={'center': 'Wheel Base'}, xlabel='Inches', ylabel='Frequency'>"
      ]
     },
     "execution_count": 89,
     "metadata": {},
     "output_type": "execute_result"
    },
    {
     "data": {
      "image/png": "[encoded data removed]",
      "text/plain": [
       "<Figure size 640x480 with 1 Axes>"
      ]
     },
     "metadata": {},
     "output_type": "display_data"
    }
   ],
   "source": [
    "plt.title('Wheel Base')\n",
    "plt.xlabel('Inches')\n",
    "plt.ylabel('Frequency')\n",
    "plt.grid(axis='y', alpha=0.75)\n",
    "Cars_Data['wheel_base'].plot.hist(grid=True, bins=40, rwidth=0.9, color='#607c8e')"
   ]
  },
  {
   "cell_type": "code",
   "execution_count": 90,
   "id": "e6e1feae",
   "metadata": {},
   "outputs": [
    {
     "data": {
      "text/plain": [
       "<Axes: xlabel='wheel_base', ylabel='msrp'>"
      ]
     },
     "execution_count": 90,
     "metadata": {},
     "output_type": "execute_result"
    },
    {
     "data": {
      "image/png": "[encoded data removed]",
      "text/plain": [
       "<Figure size 640x480 with 1 Axes>"
      ]
     },
     "metadata": {},
     "output_type": "display_data"
    }
   ],
   "source": [
    "Cars_Data.plot.scatter(y='msrp',x='wheel_base')"
   ]
  },
  {
   "cell_type": "code",
   "execution_count": 91,
   "id": "c6de0a07",
   "metadata": {},
   "outputs": [
    {
     "data": {
      "text/plain": [
       "<Axes: title={'center': 'Length'}, xlabel='Inches', ylabel='Frequency'>"
      ]
     },
     "execution_count": 91,
     "metadata": {},
     "output_type": "execute_result"
    },
    {
     "data": {
      "image/png": "[encoded data removed]",
      "text/plain": [
       "<Figure size 640x480 with 1 Axes>"
      ]
     },
     "metadata": {},
     "output_type": "display_data"
    }
   ],
   "source": [
    "plt.title('Length')\n",
    "plt.xlabel('Inches')\n",
    "plt.ylabel('Frequency')\n",
    "plt.grid(axis='y', alpha=0.75)\n",
    "Cars_Data['length'].plot.hist(grid=True, bins=40, rwidth=0.9, color='#607c8e')"
   ]
  },
  {
   "cell_type": "code",
   "execution_count": 92,
   "id": "e7ebda73",
   "metadata": {},
   "outputs": [
    {
     "data": {
      "text/plain": [
       "<Axes: xlabel='length', ylabel='msrp'>"
      ]
     },
     "execution_count": 92,
     "metadata": {},
     "output_type": "execute_result"
    },
    {
     "data": {
      "image/png": "[encoded data removed]",
      "text/plain": [
       "<Figure size 640x480 with 1 Axes>"
      ]
     },
     "metadata": {},
     "output_type": "display_data"
    }
   ],
   "source": [
    "Cars_Data.plot.scatter(y='msrp',x='length')"
   ]
  },
  {
   "cell_type": "code",
   "execution_count": 93,
   "id": "8773318e",
   "metadata": {},
   "outputs": [
    {
     "data": {
      "text/plain": [
       "<Axes: title={'center': 'Width'}, xlabel='Inches', ylabel='Frequency'>"
      ]
     },
     "execution_count": 93,
     "metadata": {},
     "output_type": "execute_result"
    },
    {
     "data": {
      "image/png": "[encoded data removed]",
      "text/plain": [
       "<Figure size 640x480 with 1 Axes>"
      ]
     },
     "metadata": {},
     "output_type": "display_data"
    }
   ],
   "source": [
    "plt.title('Width')\n",
    "plt.xlabel('Inches')\n",
    "plt.ylabel('Frequency')\n",
    "plt.grid(axis='y', alpha=0.75)\n",
    "Cars_Data['width'].plot.hist(grid=True, bins=40, rwidth=0.9, color='#607c8e')"
   ]
  },
  {
   "cell_type": "code",
   "execution_count": 94,
   "id": "d74bd1d3",
   "metadata": {},
   "outputs": [
    {
     "data": {
      "text/plain": [
       "<Axes: xlabel='width', ylabel='msrp'>"
      ]
     },
     "execution_count": 94,
     "metadata": {},
     "output_type": "execute_result"
    },
    {
     "data": {
      "image/png": "[encoded data removed]",
      "text/plain": [
       "<Figure size 640x480 with 1 Axes>"
      ]
     },
     "metadata": {},
     "output_type": "display_data"
    }
   ],
   "source": [
    "Cars_Data.plot.scatter(y='msrp',x='width')"
   ]
  },
  {
   "cell_type": "code",
   "execution_count": 95,
   "id": "b106b923",
   "metadata": {},
   "outputs": [
    {
     "name": "stdout",
     "output_type": "stream",
     "text": [
      "Defaulting to user installation because normal site-packages is not writeableNote: you may need to restart the kernel to use updated packages.\n",
      "\n",
      "Requirement already satisfied: LinearRegression in c:\\programdata\\anaconda3\\lib\\site-packages (0.0.1)\n"
     ]
    }
   ],
   "source": [
    "pip install LinearRegression"
   ]
  },
  {
   "cell_type": "code",
   "execution_count": 96,
   "id": "ab4e1ec1",
   "metadata": {},
   "outputs": [],
   "source": [
    "from sklearn.linear_model import LinearRegression"
   ]
  },
  {
   "cell_type": "code",
   "execution_count": 97,
   "id": "3ff0767c",
   "metadata": {},
   "outputs": [],
   "source": [
    "import numpy as np"
   ]
  },
  {
   "cell_type": "code",
   "execution_count": 98,
   "id": "dc0a7545",
   "metadata": {},
   "outputs": [],
   "source": [
    "Cars_Data2=Cars_Data[Cars_Data.isnull().any(axis=1)]"
   ]
  },
  {
   "cell_type": "code",
   "execution_count": 99,
   "id": "ad6ced0f",
   "metadata": {},
   "outputs": [
    {
     "data": {
      "text/html": [
       "<div>\n",
       "<style scoped>\n",
       "    .dataframe tbody tr th:only-of-type {\n",
       "        vertical-align: middle;\n",
       "    }\n",
       "\n",
       "    .dataframe tbody tr th {\n",
       "        vertical-align: top;\n",
       "    }\n",
       "\n",
       "    .dataframe thead th {\n",
       "        text-align: right;\n",
       "    }\n",
       "</style>\n",
       "<table border=\"1\" class=\"dataframe\">\n",
       "  <thead>\n",
       "    <tr style=\"text-align: right;\">\n",
       "      <th></th>\n",
       "      <th>name</th>\n",
       "      <th>sports_car</th>\n",
       "      <th>suv</th>\n",
       "      <th>wagon</th>\n",
       "      <th>minivan</th>\n",
       "      <th>pickup</th>\n",
       "      <th>all_wheel</th>\n",
       "      <th>rear_wheel</th>\n",
       "      <th>msrp</th>\n",
       "      <th>dealer_cost</th>\n",
       "      <th>eng_size</th>\n",
       "      <th>ncyl</th>\n",
       "      <th>horsepwr</th>\n",
       "      <th>city_mpg</th>\n",
       "      <th>hwy_mpg</th>\n",
       "      <th>weight</th>\n",
       "      <th>wheel_base</th>\n",
       "      <th>length</th>\n",
       "      <th>width</th>\n",
       "    </tr>\n",
       "  </thead>\n",
       "  <tbody>\n",
       "    <tr>\n",
       "      <th>26</th>\n",
       "      <td>Mazda3 i 4dr</td>\n",
       "      <td>False</td>\n",
       "      <td>False</td>\n",
       "      <td>False</td>\n",
       "      <td>False</td>\n",
       "      <td>False</td>\n",
       "      <td>False</td>\n",
       "      <td>False</td>\n",
       "      <td>15500</td>\n",
       "      <td>14525</td>\n",
       "      <td>2.0</td>\n",
       "      <td>4</td>\n",
       "      <td>148</td>\n",
       "      <td>NaN</td>\n",
       "      <td>NaN</td>\n",
       "      <td>2696.0</td>\n",
       "      <td>NaN</td>\n",
       "      <td>NaN</td>\n",
       "      <td>NaN</td>\n",
       "    </tr>\n",
       "    <tr>\n",
       "      <th>28</th>\n",
       "      <td>Mitsubishi Lancer ES 4dr</td>\n",
       "      <td>False</td>\n",
       "      <td>False</td>\n",
       "      <td>False</td>\n",
       "      <td>False</td>\n",
       "      <td>False</td>\n",
       "      <td>False</td>\n",
       "      <td>False</td>\n",
       "      <td>14622</td>\n",
       "      <td>13751</td>\n",
       "      <td>2.0</td>\n",
       "      <td>4</td>\n",
       "      <td>120</td>\n",
       "      <td>NaN</td>\n",
       "      <td>NaN</td>\n",
       "      <td>2656.0</td>\n",
       "      <td>102.0</td>\n",
       "      <td>181.0</td>\n",
       "      <td>67.0</td>\n",
       "    </tr>\n",
       "    <tr>\n",
       "      <th>29</th>\n",
       "      <td>Mitsubishi Lancer LS 4dr</td>\n",
       "      <td>False</td>\n",
       "      <td>False</td>\n",
       "      <td>False</td>\n",
       "      <td>False</td>\n",
       "      <td>False</td>\n",
       "      <td>False</td>\n",
       "      <td>False</td>\n",
       "      <td>16722</td>\n",
       "      <td>15718</td>\n",
       "      <td>2.0</td>\n",
       "      <td>4</td>\n",
       "      <td>120</td>\n",
       "      <td>NaN</td>\n",
       "      <td>NaN</td>\n",
       "      <td>2795.0</td>\n",
       "      <td>102.0</td>\n",
       "      <td>181.0</td>\n",
       "      <td>67.0</td>\n",
       "    </tr>\n",
       "    <tr>\n",
       "      <th>73</th>\n",
       "      <td>Mazda3 s 4dr</td>\n",
       "      <td>False</td>\n",
       "      <td>False</td>\n",
       "      <td>False</td>\n",
       "      <td>False</td>\n",
       "      <td>False</td>\n",
       "      <td>False</td>\n",
       "      <td>False</td>\n",
       "      <td>17200</td>\n",
       "      <td>15922</td>\n",
       "      <td>2.3</td>\n",
       "      <td>4</td>\n",
       "      <td>160</td>\n",
       "      <td>NaN</td>\n",
       "      <td>NaN</td>\n",
       "      <td>2762.0</td>\n",
       "      <td>NaN</td>\n",
       "      <td>NaN</td>\n",
       "      <td>NaN</td>\n",
       "    </tr>\n",
       "    <tr>\n",
       "      <th>77</th>\n",
       "      <td>Mitsubishi Galant ES 2.4L 4dr</td>\n",
       "      <td>False</td>\n",
       "      <td>False</td>\n",
       "      <td>False</td>\n",
       "      <td>False</td>\n",
       "      <td>False</td>\n",
       "      <td>False</td>\n",
       "      <td>False</td>\n",
       "      <td>19312</td>\n",
       "      <td>17957</td>\n",
       "      <td>2.4</td>\n",
       "      <td>4</td>\n",
       "      <td>160</td>\n",
       "      <td>NaN</td>\n",
       "      <td>NaN</td>\n",
       "      <td>3351.0</td>\n",
       "      <td>108.0</td>\n",
       "      <td>191.0</td>\n",
       "      <td>72.0</td>\n",
       "    </tr>\n",
       "  </tbody>\n",
       "</table>\n",
       "</div>"
      ],
      "text/plain": [
       "                             name  sports_car    suv  wagon  minivan  pickup  \\\n",
       "26                   Mazda3 i 4dr       False  False  False    False   False   \n",
       "28       Mitsubishi Lancer ES 4dr       False  False  False    False   False   \n",
       "29       Mitsubishi Lancer LS 4dr       False  False  False    False   False   \n",
       "73                   Mazda3 s 4dr       False  False  False    False   False   \n",
       "77  Mitsubishi Galant ES 2.4L 4dr       False  False  False    False   False   \n",
       "\n",
       "    all_wheel  rear_wheel   msrp  dealer_cost  eng_size  ncyl  horsepwr  \\\n",
       "26      False       False  15500        14525       2.0     4       148   \n",
       "28      False       False  14622        13751       2.0     4       120   \n",
       "29      False       False  16722        15718       2.0     4       120   \n",
       "73      False       False  17200        15922       2.3     4       160   \n",
       "77      False       False  19312        17957       2.4     4       160   \n",
       "\n",
       "    city_mpg  hwy_mpg  weight  wheel_base  length  width  \n",
       "26       NaN      NaN  2696.0         NaN     NaN    NaN  \n",
       "28       NaN      NaN  2656.0       102.0   181.0   67.0  \n",
       "29       NaN      NaN  2795.0       102.0   181.0   67.0  \n",
       "73       NaN      NaN  2762.0         NaN     NaN    NaN  \n",
       "77       NaN      NaN  3351.0       108.0   191.0   72.0  "
      ]
     },
     "execution_count": 99,
     "metadata": {},
     "output_type": "execute_result"
    }
   ],
   "source": [
    "Cars_Data2.head()"
   ]
  },
  {
   "cell_type": "code",
   "execution_count": 100,
   "id": "313e8baf",
   "metadata": {},
   "outputs": [],
   "source": [
    "Cars_Data3=Cars_Data[Cars_Data.isnull().any(axis=1)==False]"
   ]
  },
  {
   "cell_type": "code",
   "execution_count": 101,
   "id": "ae6d491a",
   "metadata": {
    "scrolled": true
   },
   "outputs": [
    {
     "data": {
      "text/html": [
       "<div>\n",
       "<style scoped>\n",
       "    .dataframe tbody tr th:only-of-type {\n",
       "        vertical-align: middle;\n",
       "    }\n",
       "\n",
       "    .dataframe tbody tr th {\n",
       "        vertical-align: top;\n",
       "    }\n",
       "\n",
       "    .dataframe thead th {\n",
       "        text-align: right;\n",
       "    }\n",
       "</style>\n",
       "<table border=\"1\" class=\"dataframe\">\n",
       "  <thead>\n",
       "    <tr style=\"text-align: right;\">\n",
       "      <th></th>\n",
       "      <th>name</th>\n",
       "      <th>sports_car</th>\n",
       "      <th>suv</th>\n",
       "      <th>wagon</th>\n",
       "      <th>minivan</th>\n",
       "      <th>pickup</th>\n",
       "      <th>all_wheel</th>\n",
       "      <th>rear_wheel</th>\n",
       "      <th>msrp</th>\n",
       "      <th>dealer_cost</th>\n",
       "      <th>eng_size</th>\n",
       "      <th>ncyl</th>\n",
       "      <th>horsepwr</th>\n",
       "      <th>city_mpg</th>\n",
       "      <th>hwy_mpg</th>\n",
       "      <th>weight</th>\n",
       "      <th>wheel_base</th>\n",
       "      <th>length</th>\n",
       "      <th>width</th>\n",
       "    </tr>\n",
       "  </thead>\n",
       "  <tbody>\n",
       "    <tr>\n",
       "      <th>0</th>\n",
       "      <td>Chevrolet Aveo 4dr</td>\n",
       "      <td>False</td>\n",
       "      <td>False</td>\n",
       "      <td>False</td>\n",
       "      <td>False</td>\n",
       "      <td>False</td>\n",
       "      <td>False</td>\n",
       "      <td>False</td>\n",
       "      <td>11690</td>\n",
       "      <td>10965</td>\n",
       "      <td>1.6</td>\n",
       "      <td>4</td>\n",
       "      <td>103</td>\n",
       "      <td>28.0</td>\n",
       "      <td>34.0</td>\n",
       "      <td>2370.0</td>\n",
       "      <td>98.0</td>\n",
       "      <td>167.0</td>\n",
       "      <td>66.0</td>\n",
       "    </tr>\n",
       "    <tr>\n",
       "      <th>1</th>\n",
       "      <td>Chevrolet Aveo LS 4dr hatch</td>\n",
       "      <td>False</td>\n",
       "      <td>False</td>\n",
       "      <td>False</td>\n",
       "      <td>False</td>\n",
       "      <td>False</td>\n",
       "      <td>False</td>\n",
       "      <td>False</td>\n",
       "      <td>12585</td>\n",
       "      <td>11802</td>\n",
       "      <td>1.6</td>\n",
       "      <td>4</td>\n",
       "      <td>103</td>\n",
       "      <td>28.0</td>\n",
       "      <td>34.0</td>\n",
       "      <td>2348.0</td>\n",
       "      <td>98.0</td>\n",
       "      <td>153.0</td>\n",
       "      <td>66.0</td>\n",
       "    </tr>\n",
       "    <tr>\n",
       "      <th>2</th>\n",
       "      <td>Chevrolet Cavalier 2dr</td>\n",
       "      <td>False</td>\n",
       "      <td>False</td>\n",
       "      <td>False</td>\n",
       "      <td>False</td>\n",
       "      <td>False</td>\n",
       "      <td>False</td>\n",
       "      <td>False</td>\n",
       "      <td>14610</td>\n",
       "      <td>13697</td>\n",
       "      <td>2.2</td>\n",
       "      <td>4</td>\n",
       "      <td>140</td>\n",
       "      <td>26.0</td>\n",
       "      <td>37.0</td>\n",
       "      <td>2617.0</td>\n",
       "      <td>104.0</td>\n",
       "      <td>183.0</td>\n",
       "      <td>69.0</td>\n",
       "    </tr>\n",
       "    <tr>\n",
       "      <th>3</th>\n",
       "      <td>Chevrolet Cavalier 4dr</td>\n",
       "      <td>False</td>\n",
       "      <td>False</td>\n",
       "      <td>False</td>\n",
       "      <td>False</td>\n",
       "      <td>False</td>\n",
       "      <td>False</td>\n",
       "      <td>False</td>\n",
       "      <td>14810</td>\n",
       "      <td>13884</td>\n",
       "      <td>2.2</td>\n",
       "      <td>4</td>\n",
       "      <td>140</td>\n",
       "      <td>26.0</td>\n",
       "      <td>37.0</td>\n",
       "      <td>2676.0</td>\n",
       "      <td>104.0</td>\n",
       "      <td>183.0</td>\n",
       "      <td>68.0</td>\n",
       "    </tr>\n",
       "    <tr>\n",
       "      <th>4</th>\n",
       "      <td>Chevrolet Cavalier LS 2dr</td>\n",
       "      <td>False</td>\n",
       "      <td>False</td>\n",
       "      <td>False</td>\n",
       "      <td>False</td>\n",
       "      <td>False</td>\n",
       "      <td>False</td>\n",
       "      <td>False</td>\n",
       "      <td>16385</td>\n",
       "      <td>15357</td>\n",
       "      <td>2.2</td>\n",
       "      <td>4</td>\n",
       "      <td>140</td>\n",
       "      <td>26.0</td>\n",
       "      <td>37.0</td>\n",
       "      <td>2617.0</td>\n",
       "      <td>104.0</td>\n",
       "      <td>183.0</td>\n",
       "      <td>69.0</td>\n",
       "    </tr>\n",
       "    <tr>\n",
       "      <th>...</th>\n",
       "      <td>...</td>\n",
       "      <td>...</td>\n",
       "      <td>...</td>\n",
       "      <td>...</td>\n",
       "      <td>...</td>\n",
       "      <td>...</td>\n",
       "      <td>...</td>\n",
       "      <td>...</td>\n",
       "      <td>...</td>\n",
       "      <td>...</td>\n",
       "      <td>...</td>\n",
       "      <td>...</td>\n",
       "      <td>...</td>\n",
       "      <td>...</td>\n",
       "      <td>...</td>\n",
       "      <td>...</td>\n",
       "      <td>...</td>\n",
       "      <td>...</td>\n",
       "      <td>...</td>\n",
       "    </tr>\n",
       "    <tr>\n",
       "      <th>399</th>\n",
       "      <td>Oldsmobile Silhouette GL</td>\n",
       "      <td>False</td>\n",
       "      <td>False</td>\n",
       "      <td>False</td>\n",
       "      <td>True</td>\n",
       "      <td>False</td>\n",
       "      <td>False</td>\n",
       "      <td>False</td>\n",
       "      <td>28790</td>\n",
       "      <td>26120</td>\n",
       "      <td>3.4</td>\n",
       "      <td>6</td>\n",
       "      <td>185</td>\n",
       "      <td>19.0</td>\n",
       "      <td>26.0</td>\n",
       "      <td>3948.0</td>\n",
       "      <td>120.0</td>\n",
       "      <td>201.0</td>\n",
       "      <td>72.0</td>\n",
       "    </tr>\n",
       "    <tr>\n",
       "      <th>400</th>\n",
       "      <td>Pontiac Montana</td>\n",
       "      <td>False</td>\n",
       "      <td>False</td>\n",
       "      <td>False</td>\n",
       "      <td>True</td>\n",
       "      <td>False</td>\n",
       "      <td>False</td>\n",
       "      <td>False</td>\n",
       "      <td>23845</td>\n",
       "      <td>21644</td>\n",
       "      <td>3.4</td>\n",
       "      <td>6</td>\n",
       "      <td>185</td>\n",
       "      <td>19.0</td>\n",
       "      <td>26.0</td>\n",
       "      <td>3803.0</td>\n",
       "      <td>112.0</td>\n",
       "      <td>187.0</td>\n",
       "      <td>72.0</td>\n",
       "    </tr>\n",
       "    <tr>\n",
       "      <th>401</th>\n",
       "      <td>Pontiac Montana EWB</td>\n",
       "      <td>False</td>\n",
       "      <td>False</td>\n",
       "      <td>False</td>\n",
       "      <td>True</td>\n",
       "      <td>False</td>\n",
       "      <td>True</td>\n",
       "      <td>False</td>\n",
       "      <td>31370</td>\n",
       "      <td>28454</td>\n",
       "      <td>3.4</td>\n",
       "      <td>6</td>\n",
       "      <td>185</td>\n",
       "      <td>18.0</td>\n",
       "      <td>24.0</td>\n",
       "      <td>4431.0</td>\n",
       "      <td>121.0</td>\n",
       "      <td>201.0</td>\n",
       "      <td>72.0</td>\n",
       "    </tr>\n",
       "    <tr>\n",
       "      <th>402</th>\n",
       "      <td>Toyota Sienna CE</td>\n",
       "      <td>False</td>\n",
       "      <td>False</td>\n",
       "      <td>False</td>\n",
       "      <td>True</td>\n",
       "      <td>False</td>\n",
       "      <td>False</td>\n",
       "      <td>False</td>\n",
       "      <td>23495</td>\n",
       "      <td>21198</td>\n",
       "      <td>3.3</td>\n",
       "      <td>6</td>\n",
       "      <td>230</td>\n",
       "      <td>19.0</td>\n",
       "      <td>27.0</td>\n",
       "      <td>4120.0</td>\n",
       "      <td>119.0</td>\n",
       "      <td>200.0</td>\n",
       "      <td>77.0</td>\n",
       "    </tr>\n",
       "    <tr>\n",
       "      <th>403</th>\n",
       "      <td>Toyota Sienna XLE Limited</td>\n",
       "      <td>False</td>\n",
       "      <td>False</td>\n",
       "      <td>False</td>\n",
       "      <td>True</td>\n",
       "      <td>False</td>\n",
       "      <td>False</td>\n",
       "      <td>False</td>\n",
       "      <td>28800</td>\n",
       "      <td>25690</td>\n",
       "      <td>3.3</td>\n",
       "      <td>6</td>\n",
       "      <td>230</td>\n",
       "      <td>19.0</td>\n",
       "      <td>27.0</td>\n",
       "      <td>4165.0</td>\n",
       "      <td>119.0</td>\n",
       "      <td>200.0</td>\n",
       "      <td>77.0</td>\n",
       "    </tr>\n",
       "  </tbody>\n",
       "</table>\n",
       "<p>387 rows × 19 columns</p>\n",
       "</div>"
      ],
      "text/plain": [
       "                            name  sports_car    suv  wagon  minivan  pickup  \\\n",
       "0             Chevrolet Aveo 4dr       False  False  False    False   False   \n",
       "1    Chevrolet Aveo LS 4dr hatch       False  False  False    False   False   \n",
       "2         Chevrolet Cavalier 2dr       False  False  False    False   False   \n",
       "3         Chevrolet Cavalier 4dr       False  False  False    False   False   \n",
       "4      Chevrolet Cavalier LS 2dr       False  False  False    False   False   \n",
       "..                           ...         ...    ...    ...      ...     ...   \n",
       "399     Oldsmobile Silhouette GL       False  False  False     True   False   \n",
       "400              Pontiac Montana       False  False  False     True   False   \n",
       "401          Pontiac Montana EWB       False  False  False     True   False   \n",
       "402             Toyota Sienna CE       False  False  False     True   False   \n",
       "403    Toyota Sienna XLE Limited       False  False  False     True   False   \n",
       "\n",
       "     all_wheel  rear_wheel   msrp  dealer_cost  eng_size  ncyl  horsepwr  \\\n",
       "0        False       False  11690        10965       1.6     4       103   \n",
       "1        False       False  12585        11802       1.6     4       103   \n",
       "2        False       False  14610        13697       2.2     4       140   \n",
       "3        False       False  14810        13884       2.2     4       140   \n",
       "4        False       False  16385        15357       2.2     4       140   \n",
       "..         ...         ...    ...          ...       ...   ...       ...   \n",
       "399      False       False  28790        26120       3.4     6       185   \n",
       "400      False       False  23845        21644       3.4     6       185   \n",
       "401       True       False  31370        28454       3.4     6       185   \n",
       "402      False       False  23495        21198       3.3     6       230   \n",
       "403      False       False  28800        25690       3.3     6       230   \n",
       "\n",
       "     city_mpg  hwy_mpg  weight  wheel_base  length  width  \n",
       "0        28.0     34.0  2370.0        98.0   167.0   66.0  \n",
       "1        28.0     34.0  2348.0        98.0   153.0   66.0  \n",
       "2        26.0     37.0  2617.0       104.0   183.0   69.0  \n",
       "3        26.0     37.0  2676.0       104.0   183.0   68.0  \n",
       "4        26.0     37.0  2617.0       104.0   183.0   69.0  \n",
       "..        ...      ...     ...         ...     ...    ...  \n",
       "399      19.0     26.0  3948.0       120.0   201.0   72.0  \n",
       "400      19.0     26.0  3803.0       112.0   187.0   72.0  \n",
       "401      18.0     24.0  4431.0       121.0   201.0   72.0  \n",
       "402      19.0     27.0  4120.0       119.0   200.0   77.0  \n",
       "403      19.0     27.0  4165.0       119.0   200.0   77.0  \n",
       "\n",
       "[387 rows x 19 columns]"
      ]
     },
     "execution_count": 101,
     "metadata": {},
     "output_type": "execute_result"
    }
   ],
   "source": [
    "Cars_Data3"
   ]
  },
  {
   "cell_type": "code",
   "execution_count": 102,
   "id": "8cd024e4",
   "metadata": {},
   "outputs": [],
   "source": [
    "#Initial model. Dealer Cost is excluded becuase it is too correlated with the dependant variable"
   ]
  },
  {
   "cell_type": "code",
   "execution_count": 103,
   "id": "07a42d6a",
   "metadata": {},
   "outputs": [],
   "source": [
    "Cars_Data3=Cars_Data3[Cars_Data3['msrp']<80000]"
   ]
  },
  {
   "cell_type": "code",
   "execution_count": 104,
   "id": "8adfc083",
   "metadata": {},
   "outputs": [],
   "source": [
    "model = LinearRegression().fit(X=Cars_Data3.iloc[:, np.r_[1:7,8:18]], y=Cars_Data3['msrp'])"
   ]
  },
  {
   "cell_type": "code",
   "execution_count": 105,
   "id": "28bb1559",
   "metadata": {},
   "outputs": [],
   "source": [
    "y, X = dmatrices('msrp~sports_car+suv+wagon+minivan+pickup+all_wheel+rear_wheel+eng_size+ncyl+horsepwr+city_mpg+hwy_mpg+weight+wheel_base+length+width', data=Cars_Data3, return_type='dataframe')"
   ]
  },
  {
   "cell_type": "code",
   "execution_count": null,
   "id": "4aa86840",
   "metadata": {},
   "outputs": [],
   "source": []
  },
  {
   "cell_type": "code",
   "execution_count": 106,
   "id": "7106c4b1",
   "metadata": {},
   "outputs": [],
   "source": [
    "mod = sm.OLS(y, X)"
   ]
  },
  {
   "cell_type": "code",
   "execution_count": 107,
   "id": "66d41c3f",
   "metadata": {},
   "outputs": [],
   "source": [
    "res = mod.fit()"
   ]
  },
  {
   "cell_type": "code",
   "execution_count": 108,
   "id": "42d69690",
   "metadata": {},
   "outputs": [
    {
     "data": {
      "text/html": [
       "<table class=\"simpletable\">\n",
       "<caption>OLS Regression Results</caption>\n",
       "<tr>\n",
       "  <th>Dep. Variable:</th>          <td>msrp</td>       <th>  R-squared:         </th> <td>   0.792</td> \n",
       "</tr>\n",
       "<tr>\n",
       "  <th>Model:</th>                   <td>OLS</td>       <th>  Adj. R-squared:    </th> <td>   0.783</td> \n",
       "</tr>\n",
       "<tr>\n",
       "  <th>Method:</th>             <td>Least Squares</td>  <th>  F-statistic:       </th> <td>   90.99</td> \n",
       "</tr>\n",
       "<tr>\n",
       "  <th>Date:</th>             <td>Thu, 27 Jul 2023</td> <th>  Prob (F-statistic):</th> <td>2.96e-112</td>\n",
       "</tr>\n",
       "<tr>\n",
       "  <th>Time:</th>                 <td>00:16:33</td>     <th>  Log-Likelihood:    </th> <td> -3818.0</td> \n",
       "</tr>\n",
       "<tr>\n",
       "  <th>No. Observations:</th>      <td>   375</td>      <th>  AIC:               </th> <td>   7668.</td> \n",
       "</tr>\n",
       "<tr>\n",
       "  <th>Df Residuals:</th>          <td>   359</td>      <th>  BIC:               </th> <td>   7731.</td> \n",
       "</tr>\n",
       "<tr>\n",
       "  <th>Df Model:</th>              <td>    15</td>      <th>                     </th>     <td> </td>    \n",
       "</tr>\n",
       "<tr>\n",
       "  <th>Covariance Type:</th>      <td>nonrobust</td>    <th>                     </th>     <td> </td>    \n",
       "</tr>\n",
       "</table>\n",
       "<table class=\"simpletable\">\n",
       "<tr>\n",
       "           <td></td>             <th>coef</th>     <th>std err</th>      <th>t</th>      <th>P>|t|</th>  <th>[0.025</th>    <th>0.975]</th>  \n",
       "</tr>\n",
       "<tr>\n",
       "  <th>Intercept</th>          <td> 3.204e+04</td> <td>  1.3e+04</td> <td>    2.473</td> <td> 0.014</td> <td> 6558.123</td> <td> 5.75e+04</td>\n",
       "</tr>\n",
       "<tr>\n",
       "  <th>sports_car[T.True]</th> <td> 4477.8640</td> <td> 1662.287</td> <td>    2.694</td> <td> 0.007</td> <td> 1208.820</td> <td> 7746.908</td>\n",
       "</tr>\n",
       "<tr>\n",
       "  <th>suv[T.True]</th>        <td>-3150.4078</td> <td> 1668.852</td> <td>   -1.888</td> <td> 0.060</td> <td>-6432.363</td> <td>  131.547</td>\n",
       "</tr>\n",
       "<tr>\n",
       "  <th>wagon[T.True]</th>      <td>-1079.9403</td> <td> 1334.146</td> <td>   -0.809</td> <td> 0.419</td> <td>-3703.663</td> <td> 1543.783</td>\n",
       "</tr>\n",
       "<tr>\n",
       "  <th>minivan[T.True]</th>    <td> -822.3176</td> <td> 2009.237</td> <td>   -0.409</td> <td> 0.683</td> <td>-4773.670</td> <td> 3129.035</td>\n",
       "</tr>\n",
       "<tr>\n",
       "  <th>pickup[T.True]</th>     <td> 2.553e-10</td> <td> 1.02e-10</td> <td>    2.493</td> <td> 0.013</td> <td> 5.39e-11</td> <td> 4.57e-10</td>\n",
       "</tr>\n",
       "<tr>\n",
       "  <th>all_wheel[T.True]</th>  <td> 1580.1242</td> <td> 1108.054</td> <td>    1.426</td> <td> 0.155</td> <td> -598.969</td> <td> 3759.217</td>\n",
       "</tr>\n",
       "<tr>\n",
       "  <th>rear_wheel[T.True]</th> <td> 6728.7451</td> <td> 1107.128</td> <td>    6.078</td> <td> 0.000</td> <td> 4551.475</td> <td> 8906.016</td>\n",
       "</tr>\n",
       "<tr>\n",
       "  <th>eng_size</th>           <td>-3775.9803</td> <td> 1069.614</td> <td>   -3.530</td> <td> 0.000</td> <td>-5879.476</td> <td>-1672.484</td>\n",
       "</tr>\n",
       "<tr>\n",
       "  <th>ncyl</th>               <td> 2491.9119</td> <td>  647.821</td> <td>    3.847</td> <td> 0.000</td> <td> 1217.911</td> <td> 3765.912</td>\n",
       "</tr>\n",
       "<tr>\n",
       "  <th>horsepwr</th>           <td>  133.5379</td> <td>   11.444</td> <td>   11.669</td> <td> 0.000</td> <td>  111.032</td> <td>  156.044</td>\n",
       "</tr>\n",
       "<tr>\n",
       "  <th>city_mpg</th>           <td> -188.2365</td> <td>  230.625</td> <td>   -0.816</td> <td> 0.415</td> <td> -641.782</td> <td>  265.309</td>\n",
       "</tr>\n",
       "<tr>\n",
       "  <th>hwy_mpg</th>            <td>  791.0087</td> <td>  247.667</td> <td>    3.194</td> <td> 0.002</td> <td>  303.948</td> <td> 1278.069</td>\n",
       "</tr>\n",
       "<tr>\n",
       "  <th>weight</th>             <td>   15.4051</td> <td>    1.570</td> <td>    9.811</td> <td> 0.000</td> <td>   12.317</td> <td>   18.493</td>\n",
       "</tr>\n",
       "<tr>\n",
       "  <th>wheel_base</th>         <td> -265.8771</td> <td>  137.213</td> <td>   -1.938</td> <td> 0.053</td> <td> -535.719</td> <td>    3.965</td>\n",
       "</tr>\n",
       "<tr>\n",
       "  <th>length</th>             <td>   26.4404</td> <td>   66.905</td> <td>    0.395</td> <td> 0.693</td> <td> -105.135</td> <td>  158.016</td>\n",
       "</tr>\n",
       "<tr>\n",
       "  <th>width</th>              <td>-1145.4608</td> <td>  227.022</td> <td>   -5.046</td> <td> 0.000</td> <td>-1591.920</td> <td> -699.001</td>\n",
       "</tr>\n",
       "</table>\n",
       "<table class=\"simpletable\">\n",
       "<tr>\n",
       "  <th>Omnibus:</th>       <td>55.558</td> <th>  Durbin-Watson:     </th> <td>   1.213</td>\n",
       "</tr>\n",
       "<tr>\n",
       "  <th>Prob(Omnibus):</th> <td> 0.000</td> <th>  Jarque-Bera (JB):  </th> <td> 114.231</td>\n",
       "</tr>\n",
       "<tr>\n",
       "  <th>Skew:</th>          <td> 0.796</td> <th>  Prob(JB):          </th> <td>1.57e-25</td>\n",
       "</tr>\n",
       "<tr>\n",
       "  <th>Kurtosis:</th>      <td> 5.186</td> <th>  Cond. No.          </th> <td>9.12e+19</td>\n",
       "</tr>\n",
       "</table><br/><br/>Notes:<br/>[1] Standard Errors assume that the covariance matrix of the errors is correctly specified.<br/>[2] The smallest eigenvalue is 5.86e-31. This might indicate that there are<br/>strong multicollinearity problems or that the design matrix is singular."
      ],
      "text/plain": [
       "<class 'statsmodels.iolib.summary.Summary'>\n",
       "\"\"\"\n",
       "                            OLS Regression Results                            \n",
       "==============================================================================\n",
       "Dep. Variable:                   msrp   R-squared:                       0.792\n",
       "Model:                            OLS   Adj. R-squared:                  0.783\n",
       "Method:                 Least Squares   F-statistic:                     90.99\n",
       "Date:                Thu, 27 Jul 2023   Prob (F-statistic):          2.96e-112\n",
       "Time:                        00:16:33   Log-Likelihood:                -3818.0\n",
       "No. Observations:                 375   AIC:                             7668.\n",
       "Df Residuals:                     359   BIC:                             7731.\n",
       "Df Model:                          15                                         \n",
       "Covariance Type:            nonrobust                                         \n",
       "======================================================================================\n",
       "                         coef    std err          t      P>|t|      [0.025      0.975]\n",
       "--------------------------------------------------------------------------------------\n",
       "Intercept           3.204e+04    1.3e+04      2.473      0.014    6558.123    5.75e+04\n",
       "sports_car[T.True]  4477.8640   1662.287      2.694      0.007    1208.820    7746.908\n",
       "suv[T.True]        -3150.4078   1668.852     -1.888      0.060   -6432.363     131.547\n",
       "wagon[T.True]      -1079.9403   1334.146     -0.809      0.419   -3703.663    1543.783\n",
       "minivan[T.True]     -822.3176   2009.237     -0.409      0.683   -4773.670    3129.035\n",
       "pickup[T.True]      2.553e-10   1.02e-10      2.493      0.013    5.39e-11    4.57e-10\n",
       "all_wheel[T.True]   1580.1242   1108.054      1.426      0.155    -598.969    3759.217\n",
       "rear_wheel[T.True]  6728.7451   1107.128      6.078      0.000    4551.475    8906.016\n",
       "eng_size           -3775.9803   1069.614     -3.530      0.000   -5879.476   -1672.484\n",
       "ncyl                2491.9119    647.821      3.847      0.000    1217.911    3765.912\n",
       "horsepwr             133.5379     11.444     11.669      0.000     111.032     156.044\n",
       "city_mpg            -188.2365    230.625     -0.816      0.415    -641.782     265.309\n",
       "hwy_mpg              791.0087    247.667      3.194      0.002     303.948    1278.069\n",
       "weight                15.4051      1.570      9.811      0.000      12.317      18.493\n",
       "wheel_base          -265.8771    137.213     -1.938      0.053    -535.719       3.965\n",
       "length                26.4404     66.905      0.395      0.693    -105.135     158.016\n",
       "width              -1145.4608    227.022     -5.046      0.000   -1591.920    -699.001\n",
       "==============================================================================\n",
       "Omnibus:                       55.558   Durbin-Watson:                   1.213\n",
       "Prob(Omnibus):                  0.000   Jarque-Bera (JB):              114.231\n",
       "Skew:                           0.796   Prob(JB):                     1.57e-25\n",
       "Kurtosis:                       5.186   Cond. No.                     9.12e+19\n",
       "==============================================================================\n",
       "\n",
       "Notes:\n",
       "[1] Standard Errors assume that the covariance matrix of the errors is correctly specified.\n",
       "[2] The smallest eigenvalue is 5.86e-31. This might indicate that there are\n",
       "strong multicollinearity problems or that the design matrix is singular.\n",
       "\"\"\""
      ]
     },
     "execution_count": 108,
     "metadata": {},
     "output_type": "execute_result"
    }
   ],
   "source": [
    "res.summary()"
   ]
  },
  {
   "cell_type": "code",
   "execution_count": 109,
   "id": "f95939b8",
   "metadata": {},
   "outputs": [],
   "source": [
    "#I suspect weight, length, wheel_base and width cause multicollinearity. \n",
    "#I need to verify and determine the appropriate variables for the model."
   ]
  },
  {
   "cell_type": "code",
   "execution_count": 110,
   "id": "3ae50622",
   "metadata": {},
   "outputs": [
    {
     "data": {
      "text/plain": [
       "0.7693942203731728"
      ]
     },
     "execution_count": 110,
     "metadata": {},
     "output_type": "execute_result"
    }
   ],
   "source": [
    "Cars_Data3['weight'].corr(Cars_Data3['wheel_base'])"
   ]
  },
  {
   "cell_type": "code",
   "execution_count": 111,
   "id": "1ac807d4",
   "metadata": {},
   "outputs": [
    {
     "data": {
      "text/plain": [
       "0.6560197858338739"
      ]
     },
     "execution_count": 111,
     "metadata": {},
     "output_type": "execute_result"
    }
   ],
   "source": [
    "Cars_Data3['weight'].corr(Cars_Data3['length'])"
   ]
  },
  {
   "cell_type": "code",
   "execution_count": 112,
   "id": "6efb1fee",
   "metadata": {},
   "outputs": [
    {
     "data": {
      "text/plain": [
       "0.8124118411768075"
      ]
     },
     "execution_count": 112,
     "metadata": {},
     "output_type": "execute_result"
    }
   ],
   "source": [
    "Cars_Data3['weight'].corr(Cars_Data3['width'])"
   ]
  },
  {
   "cell_type": "code",
   "execution_count": 113,
   "id": "4d8d2df5",
   "metadata": {},
   "outputs": [
    {
     "data": {
      "text/plain": [
       "0.913795722726179"
      ]
     },
     "execution_count": 113,
     "metadata": {},
     "output_type": "execute_result"
    }
   ],
   "source": [
    "Cars_Data3['eng_size'].corr(Cars_Data3['ncyl'])"
   ]
  },
  {
   "cell_type": "code",
   "execution_count": 114,
   "id": "31fe4bf6",
   "metadata": {},
   "outputs": [
    {
     "data": {
      "text/plain": [
       "0.7880432161232025"
      ]
     },
     "execution_count": 114,
     "metadata": {},
     "output_type": "execute_result"
    }
   ],
   "source": [
    "Cars_Data3['eng_size'].corr(Cars_Data3['horsepwr'])"
   ]
  },
  {
   "cell_type": "code",
   "execution_count": 115,
   "id": "94a0734b",
   "metadata": {},
   "outputs": [
    {
     "data": {
      "text/plain": [
       "0.9396682110529497"
      ]
     },
     "execution_count": 115,
     "metadata": {},
     "output_type": "execute_result"
    }
   ],
   "source": [
    "Cars_Data3['city_mpg'].corr(Cars_Data3['hwy_mpg'])"
   ]
  },
  {
   "cell_type": "code",
   "execution_count": 116,
   "id": "2a9b2af6",
   "metadata": {},
   "outputs": [
    {
     "data": {
      "text/plain": [
       "-0.6693074781908083"
      ]
     },
     "execution_count": 116,
     "metadata": {},
     "output_type": "execute_result"
    }
   ],
   "source": [
    "Cars_Data3['horsepwr'].corr(Cars_Data3['hwy_mpg'])"
   ]
  },
  {
   "cell_type": "code",
   "execution_count": 117,
   "id": "68e8ae0f",
   "metadata": {},
   "outputs": [
    {
     "data": {
      "text/plain": [
       "-0.702164988747969"
      ]
     },
     "execution_count": 117,
     "metadata": {},
     "output_type": "execute_result"
    }
   ],
   "source": [
    "Cars_Data3['eng_size'].corr(Cars_Data3['hwy_mpg'])"
   ]
  },
  {
   "cell_type": "code",
   "execution_count": 118,
   "id": "05ff777b",
   "metadata": {},
   "outputs": [],
   "source": [
    "y, X = dmatrices('msrp~sports_car+suv+wagon+minivan+pickup+all_wheel+rear_wheel+horsepwr+hwy_mpg+weight+length', data=Cars_Data3, return_type='dataframe')"
   ]
  },
  {
   "cell_type": "code",
   "execution_count": 119,
   "id": "c8dddbcc",
   "metadata": {},
   "outputs": [],
   "source": [
    "mod = sm.OLS(y, X)"
   ]
  },
  {
   "cell_type": "code",
   "execution_count": 120,
   "id": "ad4b21eb",
   "metadata": {},
   "outputs": [],
   "source": [
    "res = mod.fit()"
   ]
  },
  {
   "cell_type": "code",
   "execution_count": 121,
   "id": "3681c565",
   "metadata": {},
   "outputs": [
    {
     "data": {
      "text/html": [
       "<table class=\"simpletable\">\n",
       "<caption>OLS Regression Results</caption>\n",
       "<tr>\n",
       "  <th>Dep. Variable:</th>          <td>msrp</td>       <th>  R-squared:         </th> <td>   0.763</td> \n",
       "</tr>\n",
       "<tr>\n",
       "  <th>Model:</th>                   <td>OLS</td>       <th>  Adj. R-squared:    </th> <td>   0.756</td> \n",
       "</tr>\n",
       "<tr>\n",
       "  <th>Method:</th>             <td>Least Squares</td>  <th>  F-statistic:       </th> <td>   116.9</td> \n",
       "</tr>\n",
       "<tr>\n",
       "  <th>Date:</th>             <td>Thu, 27 Jul 2023</td> <th>  Prob (F-statistic):</th> <td>3.51e-107</td>\n",
       "</tr>\n",
       "<tr>\n",
       "  <th>Time:</th>                 <td>00:16:34</td>     <th>  Log-Likelihood:    </th> <td> -3842.5</td> \n",
       "</tr>\n",
       "<tr>\n",
       "  <th>No. Observations:</th>      <td>   375</td>      <th>  AIC:               </th> <td>   7707.</td> \n",
       "</tr>\n",
       "<tr>\n",
       "  <th>Df Residuals:</th>          <td>   364</td>      <th>  BIC:               </th> <td>   7750.</td> \n",
       "</tr>\n",
       "<tr>\n",
       "  <th>Df Model:</th>              <td>    10</td>      <th>                     </th>     <td> </td>    \n",
       "</tr>\n",
       "<tr>\n",
       "  <th>Covariance Type:</th>      <td>nonrobust</td>    <th>                     </th>     <td> </td>    \n",
       "</tr>\n",
       "</table>\n",
       "<table class=\"simpletable\">\n",
       "<tr>\n",
       "           <td></td>             <th>coef</th>     <th>std err</th>      <th>t</th>      <th>P>|t|</th>  <th>[0.025</th>    <th>0.975]</th>  \n",
       "</tr>\n",
       "<tr>\n",
       "  <th>Intercept</th>          <td>-1.153e+04</td> <td> 8231.778</td> <td>   -1.400</td> <td> 0.162</td> <td>-2.77e+04</td> <td> 4662.705</td>\n",
       "</tr>\n",
       "<tr>\n",
       "  <th>sports_car[T.True]</th> <td> 2153.2348</td> <td> 1545.951</td> <td>    1.393</td> <td> 0.165</td> <td> -886.882</td> <td> 5193.352</td>\n",
       "</tr>\n",
       "<tr>\n",
       "  <th>suv[T.True]</th>        <td>-6669.0307</td> <td> 1602.888</td> <td>   -4.161</td> <td> 0.000</td> <td>-9821.115</td> <td>-3516.947</td>\n",
       "</tr>\n",
       "<tr>\n",
       "  <th>wagon[T.True]</th>      <td>-1423.4243</td> <td> 1406.954</td> <td>   -1.012</td> <td> 0.312</td> <td>-4190.204</td> <td> 1343.355</td>\n",
       "</tr>\n",
       "<tr>\n",
       "  <th>minivan[T.True]</th>    <td>-6295.0667</td> <td> 1879.545</td> <td>   -3.349</td> <td> 0.001</td> <td>-9991.197</td> <td>-2598.936</td>\n",
       "</tr>\n",
       "<tr>\n",
       "  <th>pickup[T.True]</th>     <td>-1.024e-12</td> <td> 9.44e-13</td> <td>   -1.085</td> <td> 0.279</td> <td>-2.88e-12</td> <td> 8.32e-13</td>\n",
       "</tr>\n",
       "<tr>\n",
       "  <th>all_wheel[T.True]</th>  <td> 2123.6411</td> <td> 1161.505</td> <td>    1.828</td> <td> 0.068</td> <td> -160.461</td> <td> 4407.744</td>\n",
       "</tr>\n",
       "<tr>\n",
       "  <th>rear_wheel[T.True]</th> <td> 6325.0833</td> <td> 1094.019</td> <td>    5.782</td> <td> 0.000</td> <td> 4173.692</td> <td> 8476.475</td>\n",
       "</tr>\n",
       "<tr>\n",
       "  <th>horsepwr</th>           <td>  132.8826</td> <td>   10.677</td> <td>   12.446</td> <td> 0.000</td> <td>  111.886</td> <td>  153.879</td>\n",
       "</tr>\n",
       "<tr>\n",
       "  <th>hwy_mpg</th>            <td>  476.4927</td> <td>  117.861</td> <td>    4.043</td> <td> 0.000</td> <td>  244.720</td> <td>  708.266</td>\n",
       "</tr>\n",
       "<tr>\n",
       "  <th>weight</th>             <td>   11.4129</td> <td>    1.400</td> <td>    8.154</td> <td> 0.000</td> <td>    8.660</td> <td>   14.165</td>\n",
       "</tr>\n",
       "<tr>\n",
       "  <th>length</th>             <td> -211.5014</td> <td>   46.355</td> <td>   -4.563</td> <td> 0.000</td> <td> -302.659</td> <td> -120.343</td>\n",
       "</tr>\n",
       "</table>\n",
       "<table class=\"simpletable\">\n",
       "<tr>\n",
       "  <th>Omnibus:</th>       <td>60.041</td> <th>  Durbin-Watson:     </th> <td>   1.198</td>\n",
       "</tr>\n",
       "<tr>\n",
       "  <th>Prob(Omnibus):</th> <td> 0.000</td> <th>  Jarque-Bera (JB):  </th> <td> 158.034</td>\n",
       "</tr>\n",
       "<tr>\n",
       "  <th>Skew:</th>          <td> 0.766</td> <th>  Prob(JB):          </th> <td>4.82e-35</td>\n",
       "</tr>\n",
       "<tr>\n",
       "  <th>Kurtosis:</th>      <td> 5.787</td> <th>  Cond. No.          </th> <td>3.48e+20</td>\n",
       "</tr>\n",
       "</table><br/><br/>Notes:<br/>[1] Standard Errors assume that the covariance matrix of the errors is correctly specified.<br/>[2] The smallest eigenvalue is 4.01e-32. This might indicate that there are<br/>strong multicollinearity problems or that the design matrix is singular."
      ],
      "text/plain": [
       "<class 'statsmodels.iolib.summary.Summary'>\n",
       "\"\"\"\n",
       "                            OLS Regression Results                            \n",
       "==============================================================================\n",
       "Dep. Variable:                   msrp   R-squared:                       0.763\n",
       "Model:                            OLS   Adj. R-squared:                  0.756\n",
       "Method:                 Least Squares   F-statistic:                     116.9\n",
       "Date:                Thu, 27 Jul 2023   Prob (F-statistic):          3.51e-107\n",
       "Time:                        00:16:34   Log-Likelihood:                -3842.5\n",
       "No. Observations:                 375   AIC:                             7707.\n",
       "Df Residuals:                     364   BIC:                             7750.\n",
       "Df Model:                          10                                         \n",
       "Covariance Type:            nonrobust                                         \n",
       "======================================================================================\n",
       "                         coef    std err          t      P>|t|      [0.025      0.975]\n",
       "--------------------------------------------------------------------------------------\n",
       "Intercept          -1.153e+04   8231.778     -1.400      0.162   -2.77e+04    4662.705\n",
       "sports_car[T.True]  2153.2348   1545.951      1.393      0.165    -886.882    5193.352\n",
       "suv[T.True]        -6669.0307   1602.888     -4.161      0.000   -9821.115   -3516.947\n",
       "wagon[T.True]      -1423.4243   1406.954     -1.012      0.312   -4190.204    1343.355\n",
       "minivan[T.True]    -6295.0667   1879.545     -3.349      0.001   -9991.197   -2598.936\n",
       "pickup[T.True]     -1.024e-12   9.44e-13     -1.085      0.279   -2.88e-12    8.32e-13\n",
       "all_wheel[T.True]   2123.6411   1161.505      1.828      0.068    -160.461    4407.744\n",
       "rear_wheel[T.True]  6325.0833   1094.019      5.782      0.000    4173.692    8476.475\n",
       "horsepwr             132.8826     10.677     12.446      0.000     111.886     153.879\n",
       "hwy_mpg              476.4927    117.861      4.043      0.000     244.720     708.266\n",
       "weight                11.4129      1.400      8.154      0.000       8.660      14.165\n",
       "length              -211.5014     46.355     -4.563      0.000    -302.659    -120.343\n",
       "==============================================================================\n",
       "Omnibus:                       60.041   Durbin-Watson:                   1.198\n",
       "Prob(Omnibus):                  0.000   Jarque-Bera (JB):              158.034\n",
       "Skew:                           0.766   Prob(JB):                     4.82e-35\n",
       "Kurtosis:                       5.787   Cond. No.                     3.48e+20\n",
       "==============================================================================\n",
       "\n",
       "Notes:\n",
       "[1] Standard Errors assume that the covariance matrix of the errors is correctly specified.\n",
       "[2] The smallest eigenvalue is 4.01e-32. This might indicate that there are\n",
       "strong multicollinearity problems or that the design matrix is singular.\n",
       "\"\"\""
      ]
     },
     "execution_count": 121,
     "metadata": {},
     "output_type": "execute_result"
    }
   ],
   "source": [
    "res.summary()"
   ]
  },
  {
   "cell_type": "code",
   "execution_count": 122,
   "id": "d39e731f",
   "metadata": {},
   "outputs": [
    {
     "data": {
      "text/plain": [
       "0.6560197858338739"
      ]
     },
     "execution_count": 122,
     "metadata": {},
     "output_type": "execute_result"
    }
   ],
   "source": [
    "Cars_Data3['weight'].corr(Cars_Data3['length'])"
   ]
  },
  {
   "cell_type": "code",
   "execution_count": 123,
   "id": "18fa437a",
   "metadata": {},
   "outputs": [
    {
     "data": {
      "text/plain": [
       "False    339\n",
       "True      36\n",
       "Name: sports_car, dtype: int64"
      ]
     },
     "execution_count": 123,
     "metadata": {},
     "output_type": "execute_result"
    }
   ],
   "source": [
    "Cars_Data3['sports_car'].value_counts()"
   ]
  },
  {
   "cell_type": "code",
   "execution_count": 124,
   "id": "51e991b4",
   "metadata": {},
   "outputs": [
    {
     "data": {
      "text/plain": [
       "False    316\n",
       "True      59\n",
       "Name: suv, dtype: int64"
      ]
     },
     "execution_count": 124,
     "metadata": {},
     "output_type": "execute_result"
    }
   ],
   "source": [
    "Cars_Data3['suv'].value_counts()"
   ]
  },
  {
   "cell_type": "code",
   "execution_count": 125,
   "id": "1f1979d4",
   "metadata": {},
   "outputs": [
    {
     "data": {
      "text/plain": [
       "False    346\n",
       "True      29\n",
       "Name: wagon, dtype: int64"
      ]
     },
     "execution_count": 125,
     "metadata": {},
     "output_type": "execute_result"
    }
   ],
   "source": [
    "Cars_Data3['wagon'].value_counts()"
   ]
  },
  {
   "cell_type": "code",
   "execution_count": 126,
   "id": "c18800d8",
   "metadata": {},
   "outputs": [
    {
     "data": {
      "text/plain": [
       "False    355\n",
       "True      20\n",
       "Name: minivan, dtype: int64"
      ]
     },
     "execution_count": 126,
     "metadata": {},
     "output_type": "execute_result"
    }
   ],
   "source": [
    "Cars_Data3['minivan'].value_counts()"
   ]
  },
  {
   "cell_type": "code",
   "execution_count": 127,
   "id": "afb314b1",
   "metadata": {},
   "outputs": [
    {
     "data": {
      "text/plain": [
       "False    375\n",
       "Name: pickup, dtype: int64"
      ]
     },
     "execution_count": 127,
     "metadata": {},
     "output_type": "execute_result"
    }
   ],
   "source": [
    "Cars_Data3['pickup'].value_counts()"
   ]
  },
  {
   "cell_type": "code",
   "execution_count": 128,
   "id": "60188c31",
   "metadata": {},
   "outputs": [
    {
     "data": {
      "text/plain": [
       "False    299\n",
       "True      76\n",
       "Name: all_wheel, dtype: int64"
      ]
     },
     "execution_count": 128,
     "metadata": {},
     "output_type": "execute_result"
    }
   ],
   "source": [
    "Cars_Data3['all_wheel'].value_counts()"
   ]
  },
  {
   "cell_type": "code",
   "execution_count": 129,
   "id": "60024d23",
   "metadata": {},
   "outputs": [
    {
     "data": {
      "text/plain": [
       "False    290\n",
       "True      85\n",
       "Name: rear_wheel, dtype: int64"
      ]
     },
     "execution_count": 129,
     "metadata": {},
     "output_type": "execute_result"
    }
   ],
   "source": [
    "Cars_Data3['rear_wheel'].value_counts()"
   ]
  },
  {
   "cell_type": "code",
   "execution_count": 206,
   "id": "46fe1a46",
   "metadata": {},
   "outputs": [],
   "source": [
    "y, X = dmatrices('msrp~sports_car+suv+wagon+minivan+all_wheel+rear_wheel+horsepwr+hwy_mpg+weight+length', data=Cars_Data3, return_type='dataframe')"
   ]
  },
  {
   "cell_type": "code",
   "execution_count": 207,
   "id": "8cf0d5d6",
   "metadata": {},
   "outputs": [],
   "source": [
    "mod = sm.OLS(y, X)"
   ]
  },
  {
   "cell_type": "code",
   "execution_count": 208,
   "id": "8ebc1954",
   "metadata": {},
   "outputs": [],
   "source": [
    "res = mod.fit()"
   ]
  },
  {
   "cell_type": "code",
   "execution_count": 209,
   "id": "4159f02e",
   "metadata": {},
   "outputs": [
    {
     "data": {
      "text/html": [
       "<table class=\"simpletable\">\n",
       "<caption>OLS Regression Results</caption>\n",
       "<tr>\n",
       "  <th>Dep. Variable:</th>          <td>msrp</td>       <th>  R-squared:         </th> <td>   0.763</td> \n",
       "</tr>\n",
       "<tr>\n",
       "  <th>Model:</th>                   <td>OLS</td>       <th>  Adj. R-squared:    </th> <td>   0.756</td> \n",
       "</tr>\n",
       "<tr>\n",
       "  <th>Method:</th>             <td>Least Squares</td>  <th>  F-statistic:       </th> <td>   116.9</td> \n",
       "</tr>\n",
       "<tr>\n",
       "  <th>Date:</th>             <td>Thu, 27 Jul 2023</td> <th>  Prob (F-statistic):</th> <td>3.51e-107</td>\n",
       "</tr>\n",
       "<tr>\n",
       "  <th>Time:</th>                 <td>01:26:29</td>     <th>  Log-Likelihood:    </th> <td> -3842.5</td> \n",
       "</tr>\n",
       "<tr>\n",
       "  <th>No. Observations:</th>      <td>   375</td>      <th>  AIC:               </th> <td>   7707.</td> \n",
       "</tr>\n",
       "<tr>\n",
       "  <th>Df Residuals:</th>          <td>   364</td>      <th>  BIC:               </th> <td>   7750.</td> \n",
       "</tr>\n",
       "<tr>\n",
       "  <th>Df Model:</th>              <td>    10</td>      <th>                     </th>     <td> </td>    \n",
       "</tr>\n",
       "<tr>\n",
       "  <th>Covariance Type:</th>      <td>nonrobust</td>    <th>                     </th>     <td> </td>    \n",
       "</tr>\n",
       "</table>\n",
       "<table class=\"simpletable\">\n",
       "<tr>\n",
       "           <td></td>             <th>coef</th>     <th>std err</th>      <th>t</th>      <th>P>|t|</th>  <th>[0.025</th>    <th>0.975]</th>  \n",
       "</tr>\n",
       "<tr>\n",
       "  <th>Intercept</th>          <td>-1.153e+04</td> <td> 8231.778</td> <td>   -1.400</td> <td> 0.162</td> <td>-2.77e+04</td> <td> 4662.705</td>\n",
       "</tr>\n",
       "<tr>\n",
       "  <th>sports_car[T.True]</th> <td> 2153.2348</td> <td> 1545.951</td> <td>    1.393</td> <td> 0.165</td> <td> -886.882</td> <td> 5193.352</td>\n",
       "</tr>\n",
       "<tr>\n",
       "  <th>suv[T.True]</th>        <td>-6669.0307</td> <td> 1602.888</td> <td>   -4.161</td> <td> 0.000</td> <td>-9821.115</td> <td>-3516.947</td>\n",
       "</tr>\n",
       "<tr>\n",
       "  <th>wagon[T.True]</th>      <td>-1423.4243</td> <td> 1406.954</td> <td>   -1.012</td> <td> 0.312</td> <td>-4190.204</td> <td> 1343.355</td>\n",
       "</tr>\n",
       "<tr>\n",
       "  <th>minivan[T.True]</th>    <td>-6295.0667</td> <td> 1879.545</td> <td>   -3.349</td> <td> 0.001</td> <td>-9991.197</td> <td>-2598.936</td>\n",
       "</tr>\n",
       "<tr>\n",
       "  <th>all_wheel[T.True]</th>  <td> 2123.6411</td> <td> 1161.505</td> <td>    1.828</td> <td> 0.068</td> <td> -160.461</td> <td> 4407.744</td>\n",
       "</tr>\n",
       "<tr>\n",
       "  <th>rear_wheel[T.True]</th> <td> 6325.0833</td> <td> 1094.019</td> <td>    5.782</td> <td> 0.000</td> <td> 4173.692</td> <td> 8476.475</td>\n",
       "</tr>\n",
       "<tr>\n",
       "  <th>horsepwr</th>           <td>  132.8826</td> <td>   10.677</td> <td>   12.446</td> <td> 0.000</td> <td>  111.886</td> <td>  153.879</td>\n",
       "</tr>\n",
       "<tr>\n",
       "  <th>hwy_mpg</th>            <td>  476.4927</td> <td>  117.861</td> <td>    4.043</td> <td> 0.000</td> <td>  244.720</td> <td>  708.266</td>\n",
       "</tr>\n",
       "<tr>\n",
       "  <th>weight</th>             <td>   11.4129</td> <td>    1.400</td> <td>    8.154</td> <td> 0.000</td> <td>    8.660</td> <td>   14.165</td>\n",
       "</tr>\n",
       "<tr>\n",
       "  <th>length</th>             <td> -211.5014</td> <td>   46.355</td> <td>   -4.563</td> <td> 0.000</td> <td> -302.659</td> <td> -120.343</td>\n",
       "</tr>\n",
       "</table>\n",
       "<table class=\"simpletable\">\n",
       "<tr>\n",
       "  <th>Omnibus:</th>       <td>60.041</td> <th>  Durbin-Watson:     </th> <td>   1.198</td>\n",
       "</tr>\n",
       "<tr>\n",
       "  <th>Prob(Omnibus):</th> <td> 0.000</td> <th>  Jarque-Bera (JB):  </th> <td> 158.034</td>\n",
       "</tr>\n",
       "<tr>\n",
       "  <th>Skew:</th>          <td> 0.766</td> <th>  Prob(JB):          </th> <td>4.82e-35</td>\n",
       "</tr>\n",
       "<tr>\n",
       "  <th>Kurtosis:</th>      <td> 5.787</td> <th>  Cond. No.          </th> <td>8.34e+04</td>\n",
       "</tr>\n",
       "</table><br/><br/>Notes:<br/>[1] Standard Errors assume that the covariance matrix of the errors is correctly specified.<br/>[2] The condition number is large, 8.34e+04. This might indicate that there are<br/>strong multicollinearity or other numerical problems."
      ],
      "text/plain": [
       "<class 'statsmodels.iolib.summary.Summary'>\n",
       "\"\"\"\n",
       "                            OLS Regression Results                            \n",
       "==============================================================================\n",
       "Dep. Variable:                   msrp   R-squared:                       0.763\n",
       "Model:                            OLS   Adj. R-squared:                  0.756\n",
       "Method:                 Least Squares   F-statistic:                     116.9\n",
       "Date:                Thu, 27 Jul 2023   Prob (F-statistic):          3.51e-107\n",
       "Time:                        01:26:29   Log-Likelihood:                -3842.5\n",
       "No. Observations:                 375   AIC:                             7707.\n",
       "Df Residuals:                     364   BIC:                             7750.\n",
       "Df Model:                          10                                         \n",
       "Covariance Type:            nonrobust                                         \n",
       "======================================================================================\n",
       "                         coef    std err          t      P>|t|      [0.025      0.975]\n",
       "--------------------------------------------------------------------------------------\n",
       "Intercept          -1.153e+04   8231.778     -1.400      0.162   -2.77e+04    4662.705\n",
       "sports_car[T.True]  2153.2348   1545.951      1.393      0.165    -886.882    5193.352\n",
       "suv[T.True]        -6669.0307   1602.888     -4.161      0.000   -9821.115   -3516.947\n",
       "wagon[T.True]      -1423.4243   1406.954     -1.012      0.312   -4190.204    1343.355\n",
       "minivan[T.True]    -6295.0667   1879.545     -3.349      0.001   -9991.197   -2598.936\n",
       "all_wheel[T.True]   2123.6411   1161.505      1.828      0.068    -160.461    4407.744\n",
       "rear_wheel[T.True]  6325.0833   1094.019      5.782      0.000    4173.692    8476.475\n",
       "horsepwr             132.8826     10.677     12.446      0.000     111.886     153.879\n",
       "hwy_mpg              476.4927    117.861      4.043      0.000     244.720     708.266\n",
       "weight                11.4129      1.400      8.154      0.000       8.660      14.165\n",
       "length              -211.5014     46.355     -4.563      0.000    -302.659    -120.343\n",
       "==============================================================================\n",
       "Omnibus:                       60.041   Durbin-Watson:                   1.198\n",
       "Prob(Omnibus):                  0.000   Jarque-Bera (JB):              158.034\n",
       "Skew:                           0.766   Prob(JB):                     4.82e-35\n",
       "Kurtosis:                       5.787   Cond. No.                     8.34e+04\n",
       "==============================================================================\n",
       "\n",
       "Notes:\n",
       "[1] Standard Errors assume that the covariance matrix of the errors is correctly specified.\n",
       "[2] The condition number is large, 8.34e+04. This might indicate that there are\n",
       "strong multicollinearity or other numerical problems.\n",
       "\"\"\""
      ]
     },
     "execution_count": 209,
     "metadata": {},
     "output_type": "execute_result"
    }
   ],
   "source": [
    "res.summary()"
   ]
  },
  {
   "cell_type": "code",
   "execution_count": 210,
   "id": "6fbb7d98",
   "metadata": {},
   "outputs": [],
   "source": [
    "#Create a Q-Q Plot to test if the residuals are normally distributed"
   ]
  },
  {
   "cell_type": "code",
   "execution_count": 211,
   "id": "9e98ef2f",
   "metadata": {},
   "outputs": [
    {
     "data": {
      "image/png": "[encoded data removed]",
      "text/plain": [
       "<Figure size 640x480 with 1 Axes>"
      ]
     },
     "metadata": {},
     "output_type": "display_data"
    }
   ],
   "source": [
    "fig = sm.qqplot(res.resid, line='r')\n",
    "plt.show()"
   ]
  },
  {
   "cell_type": "code",
   "execution_count": 212,
   "id": "b5fae76a",
   "metadata": {},
   "outputs": [],
   "source": [
    "#The residuals seem to be close to normal with some outliers at the upper and lower end. "
   ]
  },
  {
   "cell_type": "code",
   "execution_count": 213,
   "id": "11030f61",
   "metadata": {},
   "outputs": [],
   "source": [
    "residuals=pd.DataFrame(res.resid)"
   ]
  },
  {
   "cell_type": "code",
   "execution_count": 214,
   "id": "596c30c9",
   "metadata": {},
   "outputs": [],
   "source": [
    "fitted=pd.DataFrame(res.fittedvalues)"
   ]
  },
  {
   "cell_type": "code",
   "execution_count": 215,
   "id": "8c8fd7b6",
   "metadata": {},
   "outputs": [
    {
     "data": {
      "text/plain": [
       "<matplotlib.collections.PathCollection at 0x17fc4777430>"
      ]
     },
     "execution_count": 215,
     "metadata": {},
     "output_type": "execute_result"
    },
    {
     "data": {
      "image/png": "[encoded data removed]",
      "text/plain": [
       "<Figure size 640x480 with 1 Axes>"
      ]
     },
     "metadata": {},
     "output_type": "display_data"
    }
   ],
   "source": [
    "plt.scatter(y=residuals[0],x=fitted[0])"
   ]
  },
  {
   "cell_type": "code",
   "execution_count": null,
   "id": "aca10961",
   "metadata": {},
   "outputs": [],
   "source": [
    "#The model is clearly hetereoskedastic, error variance increases as the predicted values increase"
   ]
  },
  {
   "cell_type": "code",
   "execution_count": 216,
   "id": "c632fc5d",
   "metadata": {},
   "outputs": [],
   "source": [
    "#Since the variable msrp is logarithmic, I will next create a log-normal model to see if it solves these issues"
   ]
  },
  {
   "cell_type": "code",
   "execution_count": 217,
   "id": "0c1deef8",
   "metadata": {},
   "outputs": [],
   "source": [
    "Cars_Data_Log=Cars_Data3"
   ]
  },
  {
   "cell_type": "code",
   "execution_count": 218,
   "id": "bc40ed87",
   "metadata": {},
   "outputs": [
    {
     "name": "stderr",
     "output_type": "stream",
     "text": [
      "C:\\Users\\Andrew\\AppData\\Local\\Temp\\ipykernel_22516\\3130378088.py:1: SettingWithCopyWarning: \n",
      "A value is trying to be set on a copy of a slice from a DataFrame.\n",
      "Try using .loc[row_indexer,col_indexer] = value instead\n",
      "\n",
      "See the caveats in the documentation: https://pandas.pydata.org/pandas-docs/stable/user_guide/indexing.html#returning-a-view-versus-a-copy\n",
      "  Cars_Data_Log['log_msrp']=np.log(Cars_Data_Log['msrp'])\n"
     ]
    }
   ],
   "source": [
    "Cars_Data_Log['log_msrp']=np.log(Cars_Data_Log['msrp'])"
   ]
  },
  {
   "cell_type": "code",
   "execution_count": 219,
   "id": "7346dc3c",
   "metadata": {},
   "outputs": [],
   "source": [
    "y, X = dmatrices('log_msrp~sports_car+suv+wagon+minivan+all_wheel+rear_wheel+horsepwr+hwy_mpg+weight+length', data=Cars_Data_Log, return_type='dataframe')"
   ]
  },
  {
   "cell_type": "code",
   "execution_count": 220,
   "id": "5c534271",
   "metadata": {},
   "outputs": [],
   "source": [
    "mod = sm.OLS(y, X)"
   ]
  },
  {
   "cell_type": "code",
   "execution_count": 221,
   "id": "ce4576df",
   "metadata": {},
   "outputs": [],
   "source": [
    "res_log = mod.fit()"
   ]
  },
  {
   "cell_type": "code",
   "execution_count": 222,
   "id": "abf7373b",
   "metadata": {},
   "outputs": [
    {
     "data": {
      "text/html": [
       "<table class=\"simpletable\">\n",
       "<caption>OLS Regression Results</caption>\n",
       "<tr>\n",
       "  <th>Dep. Variable:</th>        <td>log_msrp</td>     <th>  R-squared:         </th> <td>   0.818</td> \n",
       "</tr>\n",
       "<tr>\n",
       "  <th>Model:</th>                   <td>OLS</td>       <th>  Adj. R-squared:    </th> <td>   0.813</td> \n",
       "</tr>\n",
       "<tr>\n",
       "  <th>Method:</th>             <td>Least Squares</td>  <th>  F-statistic:       </th> <td>   163.5</td> \n",
       "</tr>\n",
       "<tr>\n",
       "  <th>Date:</th>             <td>Thu, 27 Jul 2023</td> <th>  Prob (F-statistic):</th> <td>4.93e-128</td>\n",
       "</tr>\n",
       "<tr>\n",
       "  <th>Time:</th>                 <td>01:26:42</td>     <th>  Log-Likelihood:    </th> <td>  97.304</td> \n",
       "</tr>\n",
       "<tr>\n",
       "  <th>No. Observations:</th>      <td>   375</td>      <th>  AIC:               </th> <td>  -172.6</td> \n",
       "</tr>\n",
       "<tr>\n",
       "  <th>Df Residuals:</th>          <td>   364</td>      <th>  BIC:               </th> <td>  -129.4</td> \n",
       "</tr>\n",
       "<tr>\n",
       "  <th>Df Model:</th>              <td>    10</td>      <th>                     </th>     <td> </td>    \n",
       "</tr>\n",
       "<tr>\n",
       "  <th>Covariance Type:</th>      <td>nonrobust</td>    <th>                     </th>     <td> </td>    \n",
       "</tr>\n",
       "</table>\n",
       "<table class=\"simpletable\">\n",
       "<tr>\n",
       "           <td></td>             <th>coef</th>     <th>std err</th>      <th>t</th>      <th>P>|t|</th>  <th>[0.025</th>    <th>0.975]</th>  \n",
       "</tr>\n",
       "<tr>\n",
       "  <th>Intercept</th>          <td>    8.9111</td> <td>    0.225</td> <td>   39.559</td> <td> 0.000</td> <td>    8.468</td> <td>    9.354</td>\n",
       "</tr>\n",
       "<tr>\n",
       "  <th>sports_car[T.True]</th> <td>    0.0869</td> <td>    0.042</td> <td>    2.054</td> <td> 0.041</td> <td>    0.004</td> <td>    0.170</td>\n",
       "</tr>\n",
       "<tr>\n",
       "  <th>suv[T.True]</th>        <td>   -0.2593</td> <td>    0.044</td> <td>   -5.912</td> <td> 0.000</td> <td>   -0.346</td> <td>   -0.173</td>\n",
       "</tr>\n",
       "<tr>\n",
       "  <th>wagon[T.True]</th>      <td>   -0.0336</td> <td>    0.039</td> <td>   -0.872</td> <td> 0.384</td> <td>   -0.109</td> <td>    0.042</td>\n",
       "</tr>\n",
       "<tr>\n",
       "  <th>minivan[T.True]</th>    <td>   -0.1816</td> <td>    0.051</td> <td>   -3.530</td> <td> 0.000</td> <td>   -0.283</td> <td>   -0.080</td>\n",
       "</tr>\n",
       "<tr>\n",
       "  <th>all_wheel[T.True]</th>  <td>    0.0761</td> <td>    0.032</td> <td>    2.393</td> <td> 0.017</td> <td>    0.014</td> <td>    0.139</td>\n",
       "</tr>\n",
       "<tr>\n",
       "  <th>rear_wheel[T.True]</th> <td>    0.1751</td> <td>    0.030</td> <td>    5.848</td> <td> 0.000</td> <td>    0.116</td> <td>    0.234</td>\n",
       "</tr>\n",
       "<tr>\n",
       "  <th>horsepwr</th>           <td>    0.0037</td> <td>    0.000</td> <td>   12.795</td> <td> 0.000</td> <td>    0.003</td> <td>    0.004</td>\n",
       "</tr>\n",
       "<tr>\n",
       "  <th>hwy_mpg</th>            <td>    0.0074</td> <td>    0.003</td> <td>    2.308</td> <td> 0.022</td> <td>    0.001</td> <td>    0.014</td>\n",
       "</tr>\n",
       "<tr>\n",
       "  <th>weight</th>             <td>    0.0004</td> <td> 3.83e-05</td> <td>    9.807</td> <td> 0.000</td> <td>    0.000</td> <td>    0.000</td>\n",
       "</tr>\n",
       "<tr>\n",
       "  <th>length</th>             <td>   -0.0053</td> <td>    0.001</td> <td>   -4.198</td> <td> 0.000</td> <td>   -0.008</td> <td>   -0.003</td>\n",
       "</tr>\n",
       "</table>\n",
       "<table class=\"simpletable\">\n",
       "<tr>\n",
       "  <th>Omnibus:</th>       <td> 0.949</td> <th>  Durbin-Watson:     </th> <td>   1.083</td>\n",
       "</tr>\n",
       "<tr>\n",
       "  <th>Prob(Omnibus):</th> <td> 0.622</td> <th>  Jarque-Bera (JB):  </th> <td>   0.853</td>\n",
       "</tr>\n",
       "<tr>\n",
       "  <th>Skew:</th>          <td>-0.116</td> <th>  Prob(JB):          </th> <td>   0.653</td>\n",
       "</tr>\n",
       "<tr>\n",
       "  <th>Kurtosis:</th>      <td> 3.025</td> <th>  Cond. No.          </th> <td>8.34e+04</td>\n",
       "</tr>\n",
       "</table><br/><br/>Notes:<br/>[1] Standard Errors assume that the covariance matrix of the errors is correctly specified.<br/>[2] The condition number is large, 8.34e+04. This might indicate that there are<br/>strong multicollinearity or other numerical problems."
      ],
      "text/plain": [
       "<class 'statsmodels.iolib.summary.Summary'>\n",
       "\"\"\"\n",
       "                            OLS Regression Results                            \n",
       "==============================================================================\n",
       "Dep. Variable:               log_msrp   R-squared:                       0.818\n",
       "Model:                            OLS   Adj. R-squared:                  0.813\n",
       "Method:                 Least Squares   F-statistic:                     163.5\n",
       "Date:                Thu, 27 Jul 2023   Prob (F-statistic):          4.93e-128\n",
       "Time:                        01:26:42   Log-Likelihood:                 97.304\n",
       "No. Observations:                 375   AIC:                            -172.6\n",
       "Df Residuals:                     364   BIC:                            -129.4\n",
       "Df Model:                          10                                         \n",
       "Covariance Type:            nonrobust                                         \n",
       "======================================================================================\n",
       "                         coef    std err          t      P>|t|      [0.025      0.975]\n",
       "--------------------------------------------------------------------------------------\n",
       "Intercept              8.9111      0.225     39.559      0.000       8.468       9.354\n",
       "sports_car[T.True]     0.0869      0.042      2.054      0.041       0.004       0.170\n",
       "suv[T.True]           -0.2593      0.044     -5.912      0.000      -0.346      -0.173\n",
       "wagon[T.True]         -0.0336      0.039     -0.872      0.384      -0.109       0.042\n",
       "minivan[T.True]       -0.1816      0.051     -3.530      0.000      -0.283      -0.080\n",
       "all_wheel[T.True]      0.0761      0.032      2.393      0.017       0.014       0.139\n",
       "rear_wheel[T.True]     0.1751      0.030      5.848      0.000       0.116       0.234\n",
       "horsepwr               0.0037      0.000     12.795      0.000       0.003       0.004\n",
       "hwy_mpg                0.0074      0.003      2.308      0.022       0.001       0.014\n",
       "weight                 0.0004   3.83e-05      9.807      0.000       0.000       0.000\n",
       "length                -0.0053      0.001     -4.198      0.000      -0.008      -0.003\n",
       "==============================================================================\n",
       "Omnibus:                        0.949   Durbin-Watson:                   1.083\n",
       "Prob(Omnibus):                  0.622   Jarque-Bera (JB):                0.853\n",
       "Skew:                          -0.116   Prob(JB):                        0.653\n",
       "Kurtosis:                       3.025   Cond. No.                     8.34e+04\n",
       "==============================================================================\n",
       "\n",
       "Notes:\n",
       "[1] Standard Errors assume that the covariance matrix of the errors is correctly specified.\n",
       "[2] The condition number is large, 8.34e+04. This might indicate that there are\n",
       "strong multicollinearity or other numerical problems.\n",
       "\"\"\""
      ]
     },
     "execution_count": 222,
     "metadata": {},
     "output_type": "execute_result"
    }
   ],
   "source": [
    "res_log.summary()"
   ]
  },
  {
   "cell_type": "code",
   "execution_count": 227,
   "id": "ae883b51",
   "metadata": {},
   "outputs": [
    {
     "data": {
      "image/png": "[encoded data removed]",
      "text/plain": [
       "<Figure size 640x480 with 1 Axes>"
      ]
     },
     "metadata": {},
     "output_type": "display_data"
    }
   ],
   "source": [
    "fig = sm.qqplot(res_log.resid, line='r')\n",
    "plt.show()"
   ]
  },
  {
   "cell_type": "code",
   "execution_count": null,
   "id": "044569de",
   "metadata": {},
   "outputs": [],
   "source": [
    "#The residuals are closer to normal now that the model has been changed"
   ]
  },
  {
   "cell_type": "code",
   "execution_count": 224,
   "id": "56cba12f",
   "metadata": {},
   "outputs": [],
   "source": [
    "residuals_log=pd.DataFrame(res_log.resid)"
   ]
  },
  {
   "cell_type": "code",
   "execution_count": 225,
   "id": "8471cd38",
   "metadata": {},
   "outputs": [],
   "source": [
    "fitted_log=pd.DataFrame(res_log.fittedvalues)"
   ]
  },
  {
   "cell_type": "code",
   "execution_count": 226,
   "id": "0cf39843",
   "metadata": {},
   "outputs": [
    {
     "data": {
      "text/plain": [
       "<matplotlib.collections.PathCollection at 0x17fc45058a0>"
      ]
     },
     "execution_count": 226,
     "metadata": {},
     "output_type": "execute_result"
    },
    {
     "data": {
      "image/png": "[encoded data removed]",
      "text/plain": [
       "<Figure size 640x480 with 1 Axes>"
      ]
     },
     "metadata": {},
     "output_type": "display_data"
    }
   ],
   "source": [
    "plt.scatter(y=residuals_log[0],x=fitted_log[0])"
   ]
  },
  {
   "cell_type": "code",
   "execution_count": null,
   "id": "12ed03c9",
   "metadata": {},
   "outputs": [],
   "source": [
    "#The model with the log transformation is now hetereoskedastic"
   ]
  },
  {
   "cell_type": "code",
   "execution_count": null,
   "id": "a4fbc9ce",
   "metadata": {},
   "outputs": [],
   "source": [
    "#Transforming the dependant variable seems to create a much better model"
   ]
  }
 ],
 "metadata": {
  "kernelspec": {
   "display_name": "Python 3 (ipykernel)",
   "language": "python",
   "name": "python3"
  },
  "language_info": {
   "codemirror_mode": {
    "name": "ipython",
    "version": 3
   },
   "file_extension": ".py",
   "mimetype": "text/x-python",
   "name": "python",
   "nbconvert_exporter": "python",
   "pygments_lexer": "ipython3",
   "version": "3.10.9"
  }
 },
 "nbformat": 4,
 "nbformat_minor": 5
}
